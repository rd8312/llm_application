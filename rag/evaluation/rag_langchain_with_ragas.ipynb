{
  "cells": [
    {
      "cell_type": "markdown",
      "metadata": {
        "id": "TaSRV4Udalvm"
      },
      "source": [
        "# Designing RAG pipelines using LangChain and Evaluating them using Ragas\n",
        "- https://medium.com/@rhitesh.ksingh99/designing-rag-pipelines-using-langchain-and-evaluating-them-using-ragas-4e7d09262bac"
      ]
    },
    {
      "cell_type": "code",
      "execution_count": null,
      "metadata": {
        "colab": {
          "base_uri": "https://localhost:8080/"
        },
        "id": "-cBo7rSwalGR",
        "outputId": "70f82ef5-a1fc-48db-c5e7-4407e2dc8326"
      },
      "outputs": [
        {
          "name": "stdout",
          "output_type": "stream",
          "text": [
            "Requirement already satisfied: langchain in /usr/local/lib/python3.11/dist-packages (0.3.19)\n",
            "Requirement already satisfied: langchain-core<1.0.0,>=0.3.35 in /usr/local/lib/python3.11/dist-packages (from langchain) (0.3.40)\n",
            "Requirement already satisfied: langchain-text-splitters<1.0.0,>=0.3.6 in /usr/local/lib/python3.11/dist-packages (from langchain) (0.3.6)\n",
            "Requirement already satisfied: langsmith<0.4,>=0.1.17 in /usr/local/lib/python3.11/dist-packages (from langchain) (0.3.11)\n",
            "Requirement already satisfied: pydantic<3.0.0,>=2.7.4 in /usr/local/lib/python3.11/dist-packages (from langchain) (2.10.6)\n",
            "Requirement already satisfied: SQLAlchemy<3,>=1.4 in /usr/local/lib/python3.11/dist-packages (from langchain) (2.0.38)\n",
            "Requirement already satisfied: requests<3,>=2 in /usr/local/lib/python3.11/dist-packages (from langchain) (2.32.3)\n",
            "Requirement already satisfied: PyYAML>=5.3 in /usr/local/lib/python3.11/dist-packages (from langchain) (6.0.2)\n",
            "Requirement already satisfied: aiohttp<4.0.0,>=3.8.3 in /usr/local/lib/python3.11/dist-packages (from langchain) (3.11.13)\n",
            "Requirement already satisfied: tenacity!=8.4.0,<10,>=8.1.0 in /usr/local/lib/python3.11/dist-packages (from langchain) (9.0.0)\n",
            "Requirement already satisfied: numpy<2,>=1.26.4 in /usr/local/lib/python3.11/dist-packages (from langchain) (1.26.4)\n",
            "Requirement already satisfied: aiohappyeyeballs>=2.3.0 in /usr/local/lib/python3.11/dist-packages (from aiohttp<4.0.0,>=3.8.3->langchain) (2.4.6)\n",
            "Requirement already satisfied: aiosignal>=1.1.2 in /usr/local/lib/python3.11/dist-packages (from aiohttp<4.0.0,>=3.8.3->langchain) (1.3.2)\n",
            "Requirement already satisfied: attrs>=17.3.0 in /usr/local/lib/python3.11/dist-packages (from aiohttp<4.0.0,>=3.8.3->langchain) (25.1.0)\n",
            "Requirement already satisfied: frozenlist>=1.1.1 in /usr/local/lib/python3.11/dist-packages (from aiohttp<4.0.0,>=3.8.3->langchain) (1.5.0)\n",
            "Requirement already satisfied: multidict<7.0,>=4.5 in /usr/local/lib/python3.11/dist-packages (from aiohttp<4.0.0,>=3.8.3->langchain) (6.1.0)\n",
            "Requirement already satisfied: propcache>=0.2.0 in /usr/local/lib/python3.11/dist-packages (from aiohttp<4.0.0,>=3.8.3->langchain) (0.3.0)\n",
            "Requirement already satisfied: yarl<2.0,>=1.17.0 in /usr/local/lib/python3.11/dist-packages (from aiohttp<4.0.0,>=3.8.3->langchain) (1.18.3)\n",
            "Requirement already satisfied: jsonpatch<2.0,>=1.33 in /usr/local/lib/python3.11/dist-packages (from langchain-core<1.0.0,>=0.3.35->langchain) (1.33)\n",
            "Requirement already satisfied: packaging<25,>=23.2 in /usr/local/lib/python3.11/dist-packages (from langchain-core<1.0.0,>=0.3.35->langchain) (24.2)\n",
            "Requirement already satisfied: typing-extensions>=4.7 in /usr/local/lib/python3.11/dist-packages (from langchain-core<1.0.0,>=0.3.35->langchain) (4.12.2)\n",
            "Requirement already satisfied: httpx<1,>=0.23.0 in /usr/local/lib/python3.11/dist-packages (from langsmith<0.4,>=0.1.17->langchain) (0.27.2)\n",
            "Requirement already satisfied: orjson<4.0.0,>=3.9.14 in /usr/local/lib/python3.11/dist-packages (from langsmith<0.4,>=0.1.17->langchain) (3.10.15)\n",
            "Requirement already satisfied: requests-toolbelt<2.0.0,>=1.0.0 in /usr/local/lib/python3.11/dist-packages (from langsmith<0.4,>=0.1.17->langchain) (1.0.0)\n",
            "Requirement already satisfied: zstandard<0.24.0,>=0.23.0 in /usr/local/lib/python3.11/dist-packages (from langsmith<0.4,>=0.1.17->langchain) (0.23.0)\n",
            "Requirement already satisfied: annotated-types>=0.6.0 in /usr/local/lib/python3.11/dist-packages (from pydantic<3.0.0,>=2.7.4->langchain) (0.7.0)\n",
            "Requirement already satisfied: pydantic-core==2.27.2 in /usr/local/lib/python3.11/dist-packages (from pydantic<3.0.0,>=2.7.4->langchain) (2.27.2)\n",
            "Requirement already satisfied: charset-normalizer<4,>=2 in /usr/local/lib/python3.11/dist-packages (from requests<3,>=2->langchain) (3.4.1)\n",
            "Requirement already satisfied: idna<4,>=2.5 in /usr/local/lib/python3.11/dist-packages (from requests<3,>=2->langchain) (3.10)\n",
            "Requirement already satisfied: urllib3<3,>=1.21.1 in /usr/local/lib/python3.11/dist-packages (from requests<3,>=2->langchain) (2.3.0)\n",
            "Requirement already satisfied: certifi>=2017.4.17 in /usr/local/lib/python3.11/dist-packages (from requests<3,>=2->langchain) (2025.1.31)\n",
            "Requirement already satisfied: greenlet!=0.4.17 in /usr/local/lib/python3.11/dist-packages (from SQLAlchemy<3,>=1.4->langchain) (3.1.1)\n",
            "Requirement already satisfied: anyio in /usr/local/lib/python3.11/dist-packages (from httpx<1,>=0.23.0->langsmith<0.4,>=0.1.17->langchain) (3.7.1)\n",
            "Requirement already satisfied: httpcore==1.* in /usr/local/lib/python3.11/dist-packages (from httpx<1,>=0.23.0->langsmith<0.4,>=0.1.17->langchain) (1.0.7)\n",
            "Requirement already satisfied: sniffio in /usr/local/lib/python3.11/dist-packages (from httpx<1,>=0.23.0->langsmith<0.4,>=0.1.17->langchain) (1.3.1)\n",
            "Requirement already satisfied: h11<0.15,>=0.13 in /usr/local/lib/python3.11/dist-packages (from httpcore==1.*->httpx<1,>=0.23.0->langsmith<0.4,>=0.1.17->langchain) (0.14.0)\n",
            "Requirement already satisfied: jsonpointer>=1.9 in /usr/local/lib/python3.11/dist-packages (from jsonpatch<2.0,>=1.33->langchain-core<1.0.0,>=0.3.35->langchain) (3.0.0)\n",
            "Collecting openai==1.55.3\n",
            "  Using cached openai-1.55.3-py3-none-any.whl.metadata (24 kB)\n",
            "Requirement already satisfied: anyio<5,>=3.5.0 in /usr/local/lib/python3.11/dist-packages (from openai==1.55.3) (3.7.1)\n",
            "Requirement already satisfied: distro<2,>=1.7.0 in /usr/local/lib/python3.11/dist-packages (from openai==1.55.3) (1.9.0)\n",
            "Requirement already satisfied: httpx<1,>=0.23.0 in /usr/local/lib/python3.11/dist-packages (from openai==1.55.3) (0.27.2)\n",
            "Requirement already satisfied: jiter<1,>=0.4.0 in /usr/local/lib/python3.11/dist-packages (from openai==1.55.3) (0.8.2)\n",
            "Requirement already satisfied: pydantic<3,>=1.9.0 in /usr/local/lib/python3.11/dist-packages (from openai==1.55.3) (2.10.6)\n",
            "Requirement already satisfied: sniffio in /usr/local/lib/python3.11/dist-packages (from openai==1.55.3) (1.3.1)\n",
            "Requirement already satisfied: tqdm>4 in /usr/local/lib/python3.11/dist-packages (from openai==1.55.3) (4.67.1)\n",
            "Requirement already satisfied: typing-extensions<5,>=4.11 in /usr/local/lib/python3.11/dist-packages (from openai==1.55.3) (4.12.2)\n",
            "Requirement already satisfied: idna>=2.8 in /usr/local/lib/python3.11/dist-packages (from anyio<5,>=3.5.0->openai==1.55.3) (3.10)\n",
            "Requirement already satisfied: certifi in /usr/local/lib/python3.11/dist-packages (from httpx<1,>=0.23.0->openai==1.55.3) (2025.1.31)\n",
            "Requirement already satisfied: httpcore==1.* in /usr/local/lib/python3.11/dist-packages (from httpx<1,>=0.23.0->openai==1.55.3) (1.0.7)\n",
            "Requirement already satisfied: h11<0.15,>=0.13 in /usr/local/lib/python3.11/dist-packages (from httpcore==1.*->httpx<1,>=0.23.0->openai==1.55.3) (0.14.0)\n",
            "Requirement already satisfied: annotated-types>=0.6.0 in /usr/local/lib/python3.11/dist-packages (from pydantic<3,>=1.9.0->openai==1.55.3) (0.7.0)\n",
            "Requirement already satisfied: pydantic-core==2.27.2 in /usr/local/lib/python3.11/dist-packages (from pydantic<3,>=1.9.0->openai==1.55.3) (2.27.2)\n",
            "Using cached openai-1.55.3-py3-none-any.whl (389 kB)\n",
            "Installing collected packages: openai\n",
            "  Attempting uninstall: openai\n",
            "    Found existing installation: openai 1.65.2\n",
            "    Uninstalling openai-1.65.2:\n",
            "      Successfully uninstalled openai-1.65.2\n",
            "\u001b[31mERROR: pip's dependency resolver does not currently take into account all the packages that are installed. This behaviour is the source of the following dependency conflicts.\n",
            "langchain-openai 0.3.7 requires openai<2.0.0,>=1.58.1, but you have openai 1.55.3 which is incompatible.\u001b[0m\u001b[31m\n",
            "\u001b[0mSuccessfully installed openai-1.55.3\n",
            "Requirement already satisfied: httpx==0.27.2 in /usr/local/lib/python3.11/dist-packages (0.27.2)\n",
            "Requirement already satisfied: anyio in /usr/local/lib/python3.11/dist-packages (from httpx==0.27.2) (3.7.1)\n",
            "Requirement already satisfied: certifi in /usr/local/lib/python3.11/dist-packages (from httpx==0.27.2) (2025.1.31)\n",
            "Requirement already satisfied: httpcore==1.* in /usr/local/lib/python3.11/dist-packages (from httpx==0.27.2) (1.0.7)\n",
            "Requirement already satisfied: idna in /usr/local/lib/python3.11/dist-packages (from httpx==0.27.2) (3.10)\n",
            "Requirement already satisfied: sniffio in /usr/local/lib/python3.11/dist-packages (from httpx==0.27.2) (1.3.1)\n",
            "Requirement already satisfied: h11<0.15,>=0.13 in /usr/local/lib/python3.11/dist-packages (from httpcore==1.*->httpx==0.27.2) (0.14.0)\n",
            "Requirement already satisfied: PyPDF2 in /usr/local/lib/python3.11/dist-packages (3.0.1)\n",
            "Requirement already satisfied: pypdf in /usr/local/lib/python3.11/dist-packages (5.3.1)\n",
            "Requirement already satisfied: faiss-cpu in /usr/local/lib/python3.11/dist-packages (1.10.0)\n",
            "Requirement already satisfied: numpy<3.0,>=1.25.0 in /usr/local/lib/python3.11/dist-packages (from faiss-cpu) (1.26.4)\n",
            "Requirement already satisfied: packaging in /usr/local/lib/python3.11/dist-packages (from faiss-cpu) (24.2)\n",
            "Requirement already satisfied: tiktoken in /usr/local/lib/python3.11/dist-packages (0.9.0)\n",
            "Requirement already satisfied: regex>=2022.1.18 in /usr/local/lib/python3.11/dist-packages (from tiktoken) (2024.11.6)\n",
            "Requirement already satisfied: requests>=2.26.0 in /usr/local/lib/python3.11/dist-packages (from tiktoken) (2.32.3)\n",
            "Requirement already satisfied: charset-normalizer<4,>=2 in /usr/local/lib/python3.11/dist-packages (from requests>=2.26.0->tiktoken) (3.4.1)\n",
            "Requirement already satisfied: idna<4,>=2.5 in /usr/local/lib/python3.11/dist-packages (from requests>=2.26.0->tiktoken) (3.10)\n",
            "Requirement already satisfied: urllib3<3,>=1.21.1 in /usr/local/lib/python3.11/dist-packages (from requests>=2.26.0->tiktoken) (2.3.0)\n",
            "Requirement already satisfied: certifi>=2017.4.17 in /usr/local/lib/python3.11/dist-packages (from requests>=2.26.0->tiktoken) (2025.1.31)\n",
            "Requirement already satisfied: sentence-transformers in /usr/local/lib/python3.11/dist-packages (3.4.1)\n",
            "Requirement already satisfied: transformers<5.0.0,>=4.41.0 in /usr/local/lib/python3.11/dist-packages (from sentence-transformers) (4.48.3)\n",
            "Requirement already satisfied: tqdm in /usr/local/lib/python3.11/dist-packages (from sentence-transformers) (4.67.1)\n",
            "Requirement already satisfied: torch>=1.11.0 in /usr/local/lib/python3.11/dist-packages (from sentence-transformers) (2.5.1+cu124)\n",
            "Requirement already satisfied: scikit-learn in /usr/local/lib/python3.11/dist-packages (from sentence-transformers) (1.6.1)\n",
            "Requirement already satisfied: scipy in /usr/local/lib/python3.11/dist-packages (from sentence-transformers) (1.13.1)\n",
            "Requirement already satisfied: huggingface-hub>=0.20.0 in /usr/local/lib/python3.11/dist-packages (from sentence-transformers) (0.28.1)\n",
            "Requirement already satisfied: Pillow in /usr/local/lib/python3.11/dist-packages (from sentence-transformers) (11.1.0)\n",
            "Requirement already satisfied: filelock in /usr/local/lib/python3.11/dist-packages (from huggingface-hub>=0.20.0->sentence-transformers) (3.17.0)\n",
            "Requirement already satisfied: fsspec>=2023.5.0 in /usr/local/lib/python3.11/dist-packages (from huggingface-hub>=0.20.0->sentence-transformers) (2024.10.0)\n",
            "Requirement already satisfied: packaging>=20.9 in /usr/local/lib/python3.11/dist-packages (from huggingface-hub>=0.20.0->sentence-transformers) (24.2)\n",
            "Requirement already satisfied: pyyaml>=5.1 in /usr/local/lib/python3.11/dist-packages (from huggingface-hub>=0.20.0->sentence-transformers) (6.0.2)\n",
            "Requirement already satisfied: requests in /usr/local/lib/python3.11/dist-packages (from huggingface-hub>=0.20.0->sentence-transformers) (2.32.3)\n",
            "Requirement already satisfied: typing-extensions>=3.7.4.3 in /usr/local/lib/python3.11/dist-packages (from huggingface-hub>=0.20.0->sentence-transformers) (4.12.2)\n",
            "Requirement already satisfied: networkx in /usr/local/lib/python3.11/dist-packages (from torch>=1.11.0->sentence-transformers) (3.4.2)\n",
            "Requirement already satisfied: jinja2 in /usr/local/lib/python3.11/dist-packages (from torch>=1.11.0->sentence-transformers) (3.1.5)\n",
            "Requirement already satisfied: nvidia-cuda-nvrtc-cu12==12.4.127 in /usr/local/lib/python3.11/dist-packages (from torch>=1.11.0->sentence-transformers) (12.4.127)\n",
            "Requirement already satisfied: nvidia-cuda-runtime-cu12==12.4.127 in /usr/local/lib/python3.11/dist-packages (from torch>=1.11.0->sentence-transformers) (12.4.127)\n",
            "Requirement already satisfied: nvidia-cuda-cupti-cu12==12.4.127 in /usr/local/lib/python3.11/dist-packages (from torch>=1.11.0->sentence-transformers) (12.4.127)\n",
            "Requirement already satisfied: nvidia-cudnn-cu12==9.1.0.70 in /usr/local/lib/python3.11/dist-packages (from torch>=1.11.0->sentence-transformers) (9.1.0.70)\n",
            "Requirement already satisfied: nvidia-cublas-cu12==12.4.5.8 in /usr/local/lib/python3.11/dist-packages (from torch>=1.11.0->sentence-transformers) (12.4.5.8)\n",
            "Requirement already satisfied: nvidia-cufft-cu12==11.2.1.3 in /usr/local/lib/python3.11/dist-packages (from torch>=1.11.0->sentence-transformers) (11.2.1.3)\n",
            "Requirement already satisfied: nvidia-curand-cu12==10.3.5.147 in /usr/local/lib/python3.11/dist-packages (from torch>=1.11.0->sentence-transformers) (10.3.5.147)\n",
            "Requirement already satisfied: nvidia-cusolver-cu12==11.6.1.9 in /usr/local/lib/python3.11/dist-packages (from torch>=1.11.0->sentence-transformers) (11.6.1.9)\n",
            "Requirement already satisfied: nvidia-cusparse-cu12==12.3.1.170 in /usr/local/lib/python3.11/dist-packages (from torch>=1.11.0->sentence-transformers) (12.3.1.170)\n",
            "Requirement already satisfied: nvidia-nccl-cu12==2.21.5 in /usr/local/lib/python3.11/dist-packages (from torch>=1.11.0->sentence-transformers) (2.21.5)\n",
            "Requirement already satisfied: nvidia-nvtx-cu12==12.4.127 in /usr/local/lib/python3.11/dist-packages (from torch>=1.11.0->sentence-transformers) (12.4.127)\n",
            "Requirement already satisfied: nvidia-nvjitlink-cu12==12.4.127 in /usr/local/lib/python3.11/dist-packages (from torch>=1.11.0->sentence-transformers) (12.4.127)\n",
            "Requirement already satisfied: triton==3.1.0 in /usr/local/lib/python3.11/dist-packages (from torch>=1.11.0->sentence-transformers) (3.1.0)\n",
            "Requirement already satisfied: sympy==1.13.1 in /usr/local/lib/python3.11/dist-packages (from torch>=1.11.0->sentence-transformers) (1.13.1)\n",
            "Requirement already satisfied: mpmath<1.4,>=1.1.0 in /usr/local/lib/python3.11/dist-packages (from sympy==1.13.1->torch>=1.11.0->sentence-transformers) (1.3.0)\n",
            "Requirement already satisfied: numpy>=1.17 in /usr/local/lib/python3.11/dist-packages (from transformers<5.0.0,>=4.41.0->sentence-transformers) (1.26.4)\n",
            "Requirement already satisfied: regex!=2019.12.17 in /usr/local/lib/python3.11/dist-packages (from transformers<5.0.0,>=4.41.0->sentence-transformers) (2024.11.6)\n",
            "Requirement already satisfied: tokenizers<0.22,>=0.21 in /usr/local/lib/python3.11/dist-packages (from transformers<5.0.0,>=4.41.0->sentence-transformers) (0.21.0)\n",
            "Requirement already satisfied: safetensors>=0.4.1 in /usr/local/lib/python3.11/dist-packages (from transformers<5.0.0,>=4.41.0->sentence-transformers) (0.5.3)\n",
            "Requirement already satisfied: joblib>=1.2.0 in /usr/local/lib/python3.11/dist-packages (from scikit-learn->sentence-transformers) (1.4.2)\n",
            "Requirement already satisfied: threadpoolctl>=3.1.0 in /usr/local/lib/python3.11/dist-packages (from scikit-learn->sentence-transformers) (3.5.0)\n",
            "Requirement already satisfied: MarkupSafe>=2.0 in /usr/local/lib/python3.11/dist-packages (from jinja2->torch>=1.11.0->sentence-transformers) (3.0.2)\n",
            "Requirement already satisfied: charset-normalizer<4,>=2 in /usr/local/lib/python3.11/dist-packages (from requests->huggingface-hub>=0.20.0->sentence-transformers) (3.4.1)\n",
            "Requirement already satisfied: idna<4,>=2.5 in /usr/local/lib/python3.11/dist-packages (from requests->huggingface-hub>=0.20.0->sentence-transformers) (3.10)\n",
            "Requirement already satisfied: urllib3<3,>=1.21.1 in /usr/local/lib/python3.11/dist-packages (from requests->huggingface-hub>=0.20.0->sentence-transformers) (2.3.0)\n",
            "Requirement already satisfied: certifi>=2017.4.17 in /usr/local/lib/python3.11/dist-packages (from requests->huggingface-hub>=0.20.0->sentence-transformers) (2025.1.31)\n",
            "Requirement already satisfied: chromadb in /usr/local/lib/python3.11/dist-packages (0.6.3)\n",
            "Requirement already satisfied: build>=1.0.3 in /usr/local/lib/python3.11/dist-packages (from chromadb) (1.2.2.post1)\n",
            "Requirement already satisfied: pydantic>=1.9 in /usr/local/lib/python3.11/dist-packages (from chromadb) (2.10.6)\n",
            "Requirement already satisfied: chroma-hnswlib==0.7.6 in /usr/local/lib/python3.11/dist-packages (from chromadb) (0.7.6)\n",
            "Requirement already satisfied: fastapi>=0.95.2 in /usr/local/lib/python3.11/dist-packages (from chromadb) (0.115.11)\n",
            "Requirement already satisfied: uvicorn>=0.18.3 in /usr/local/lib/python3.11/dist-packages (from uvicorn[standard]>=0.18.3->chromadb) (0.34.0)\n",
            "Requirement already satisfied: numpy>=1.22.5 in /usr/local/lib/python3.11/dist-packages (from chromadb) (1.26.4)\n",
            "Requirement already satisfied: posthog>=2.4.0 in /usr/local/lib/python3.11/dist-packages (from chromadb) (3.18.0)\n",
            "Requirement already satisfied: typing_extensions>=4.5.0 in /usr/local/lib/python3.11/dist-packages (from chromadb) (4.12.2)\n",
            "Requirement already satisfied: onnxruntime>=1.14.1 in /usr/local/lib/python3.11/dist-packages (from chromadb) (1.20.1)\n",
            "Requirement already satisfied: opentelemetry-api>=1.2.0 in /usr/local/lib/python3.11/dist-packages (from chromadb) (1.30.0)\n",
            "Requirement already satisfied: opentelemetry-exporter-otlp-proto-grpc>=1.2.0 in /usr/local/lib/python3.11/dist-packages (from chromadb) (1.30.0)\n",
            "Requirement already satisfied: opentelemetry-instrumentation-fastapi>=0.41b0 in /usr/local/lib/python3.11/dist-packages (from chromadb) (0.51b0)\n",
            "Requirement already satisfied: opentelemetry-sdk>=1.2.0 in /usr/local/lib/python3.11/dist-packages (from chromadb) (1.30.0)\n",
            "Requirement already satisfied: tokenizers>=0.13.2 in /usr/local/lib/python3.11/dist-packages (from chromadb) (0.21.0)\n",
            "Requirement already satisfied: pypika>=0.48.9 in /usr/local/lib/python3.11/dist-packages (from chromadb) (0.48.9)\n",
            "Requirement already satisfied: tqdm>=4.65.0 in /usr/local/lib/python3.11/dist-packages (from chromadb) (4.67.1)\n",
            "Requirement already satisfied: overrides>=7.3.1 in /usr/local/lib/python3.11/dist-packages (from chromadb) (7.7.0)\n",
            "Requirement already satisfied: importlib-resources in /usr/local/lib/python3.11/dist-packages (from chromadb) (6.5.2)\n",
            "Requirement already satisfied: grpcio>=1.58.0 in /usr/local/lib/python3.11/dist-packages (from chromadb) (1.70.0)\n",
            "Requirement already satisfied: bcrypt>=4.0.1 in /usr/local/lib/python3.11/dist-packages (from chromadb) (4.3.0)\n",
            "Requirement already satisfied: typer>=0.9.0 in /usr/local/lib/python3.11/dist-packages (from chromadb) (0.15.1)\n",
            "Requirement already satisfied: kubernetes>=28.1.0 in /usr/local/lib/python3.11/dist-packages (from chromadb) (32.0.1)\n",
            "Requirement already satisfied: tenacity>=8.2.3 in /usr/local/lib/python3.11/dist-packages (from chromadb) (9.0.0)\n",
            "Requirement already satisfied: PyYAML>=6.0.0 in /usr/local/lib/python3.11/dist-packages (from chromadb) (6.0.2)\n",
            "Requirement already satisfied: mmh3>=4.0.1 in /usr/local/lib/python3.11/dist-packages (from chromadb) (5.1.0)\n",
            "Requirement already satisfied: orjson>=3.9.12 in /usr/local/lib/python3.11/dist-packages (from chromadb) (3.10.15)\n",
            "Requirement already satisfied: httpx>=0.27.0 in /usr/local/lib/python3.11/dist-packages (from chromadb) (0.27.2)\n",
            "Requirement already satisfied: rich>=10.11.0 in /usr/local/lib/python3.11/dist-packages (from chromadb) (13.9.4)\n",
            "Requirement already satisfied: packaging>=19.1 in /usr/local/lib/python3.11/dist-packages (from build>=1.0.3->chromadb) (24.2)\n",
            "Requirement already satisfied: pyproject_hooks in /usr/local/lib/python3.11/dist-packages (from build>=1.0.3->chromadb) (1.2.0)\n",
            "Requirement already satisfied: starlette<0.47.0,>=0.40.0 in /usr/local/lib/python3.11/dist-packages (from fastapi>=0.95.2->chromadb) (0.46.0)\n",
            "Requirement already satisfied: anyio in /usr/local/lib/python3.11/dist-packages (from httpx>=0.27.0->chromadb) (3.7.1)\n",
            "Requirement already satisfied: certifi in /usr/local/lib/python3.11/dist-packages (from httpx>=0.27.0->chromadb) (2025.1.31)\n",
            "Requirement already satisfied: httpcore==1.* in /usr/local/lib/python3.11/dist-packages (from httpx>=0.27.0->chromadb) (1.0.7)\n",
            "Requirement already satisfied: idna in /usr/local/lib/python3.11/dist-packages (from httpx>=0.27.0->chromadb) (3.10)\n",
            "Requirement already satisfied: sniffio in /usr/local/lib/python3.11/dist-packages (from httpx>=0.27.0->chromadb) (1.3.1)\n",
            "Requirement already satisfied: h11<0.15,>=0.13 in /usr/local/lib/python3.11/dist-packages (from httpcore==1.*->httpx>=0.27.0->chromadb) (0.14.0)\n",
            "Requirement already satisfied: six>=1.9.0 in /usr/local/lib/python3.11/dist-packages (from kubernetes>=28.1.0->chromadb) (1.17.0)\n",
            "Requirement already satisfied: python-dateutil>=2.5.3 in /usr/local/lib/python3.11/dist-packages (from kubernetes>=28.1.0->chromadb) (2.8.2)\n",
            "Requirement already satisfied: google-auth>=1.0.1 in /usr/local/lib/python3.11/dist-packages (from kubernetes>=28.1.0->chromadb) (2.27.0)\n",
            "Requirement already satisfied: websocket-client!=0.40.0,!=0.41.*,!=0.42.*,>=0.32.0 in /usr/local/lib/python3.11/dist-packages (from kubernetes>=28.1.0->chromadb) (1.8.0)\n",
            "Requirement already satisfied: requests in /usr/local/lib/python3.11/dist-packages (from kubernetes>=28.1.0->chromadb) (2.32.3)\n",
            "Requirement already satisfied: requests-oauthlib in /usr/local/lib/python3.11/dist-packages (from kubernetes>=28.1.0->chromadb) (2.0.0)\n",
            "Requirement already satisfied: oauthlib>=3.2.2 in /usr/local/lib/python3.11/dist-packages (from kubernetes>=28.1.0->chromadb) (3.2.2)\n",
            "Requirement already satisfied: urllib3>=1.24.2 in /usr/local/lib/python3.11/dist-packages (from kubernetes>=28.1.0->chromadb) (2.3.0)\n",
            "Requirement already satisfied: durationpy>=0.7 in /usr/local/lib/python3.11/dist-packages (from kubernetes>=28.1.0->chromadb) (0.9)\n",
            "Requirement already satisfied: coloredlogs in /usr/local/lib/python3.11/dist-packages (from onnxruntime>=1.14.1->chromadb) (15.0.1)\n",
            "Requirement already satisfied: flatbuffers in /usr/local/lib/python3.11/dist-packages (from onnxruntime>=1.14.1->chromadb) (25.2.10)\n",
            "Requirement already satisfied: protobuf in /usr/local/lib/python3.11/dist-packages (from onnxruntime>=1.14.1->chromadb) (5.29.3)\n",
            "Requirement already satisfied: sympy in /usr/local/lib/python3.11/dist-packages (from onnxruntime>=1.14.1->chromadb) (1.13.1)\n",
            "Requirement already satisfied: deprecated>=1.2.6 in /usr/local/lib/python3.11/dist-packages (from opentelemetry-api>=1.2.0->chromadb) (1.2.18)\n",
            "Requirement already satisfied: importlib-metadata<=8.5.0,>=6.0 in /usr/local/lib/python3.11/dist-packages (from opentelemetry-api>=1.2.0->chromadb) (8.5.0)\n",
            "Requirement already satisfied: googleapis-common-protos~=1.52 in /usr/local/lib/python3.11/dist-packages (from opentelemetry-exporter-otlp-proto-grpc>=1.2.0->chromadb) (1.68.0)\n",
            "Requirement already satisfied: opentelemetry-exporter-otlp-proto-common==1.30.0 in /usr/local/lib/python3.11/dist-packages (from opentelemetry-exporter-otlp-proto-grpc>=1.2.0->chromadb) (1.30.0)\n",
            "Requirement already satisfied: opentelemetry-proto==1.30.0 in /usr/local/lib/python3.11/dist-packages (from opentelemetry-exporter-otlp-proto-grpc>=1.2.0->chromadb) (1.30.0)\n",
            "Requirement already satisfied: opentelemetry-instrumentation-asgi==0.51b0 in /usr/local/lib/python3.11/dist-packages (from opentelemetry-instrumentation-fastapi>=0.41b0->chromadb) (0.51b0)\n",
            "Requirement already satisfied: opentelemetry-instrumentation==0.51b0 in /usr/local/lib/python3.11/dist-packages (from opentelemetry-instrumentation-fastapi>=0.41b0->chromadb) (0.51b0)\n",
            "Requirement already satisfied: opentelemetry-semantic-conventions==0.51b0 in /usr/local/lib/python3.11/dist-packages (from opentelemetry-instrumentation-fastapi>=0.41b0->chromadb) (0.51b0)\n",
            "Requirement already satisfied: opentelemetry-util-http==0.51b0 in /usr/local/lib/python3.11/dist-packages (from opentelemetry-instrumentation-fastapi>=0.41b0->chromadb) (0.51b0)\n",
            "Requirement already satisfied: wrapt<2.0.0,>=1.0.0 in /usr/local/lib/python3.11/dist-packages (from opentelemetry-instrumentation==0.51b0->opentelemetry-instrumentation-fastapi>=0.41b0->chromadb) (1.17.2)\n",
            "Requirement already satisfied: asgiref~=3.0 in /usr/local/lib/python3.11/dist-packages (from opentelemetry-instrumentation-asgi==0.51b0->opentelemetry-instrumentation-fastapi>=0.41b0->chromadb) (3.8.1)\n",
            "Requirement already satisfied: monotonic>=1.5 in /usr/local/lib/python3.11/dist-packages (from posthog>=2.4.0->chromadb) (1.6)\n",
            "Requirement already satisfied: backoff>=1.10.0 in /usr/local/lib/python3.11/dist-packages (from posthog>=2.4.0->chromadb) (2.2.1)\n",
            "Requirement already satisfied: distro>=1.5.0 in /usr/local/lib/python3.11/dist-packages (from posthog>=2.4.0->chromadb) (1.9.0)\n",
            "Requirement already satisfied: annotated-types>=0.6.0 in /usr/local/lib/python3.11/dist-packages (from pydantic>=1.9->chromadb) (0.7.0)\n",
            "Requirement already satisfied: pydantic-core==2.27.2 in /usr/local/lib/python3.11/dist-packages (from pydantic>=1.9->chromadb) (2.27.2)\n",
            "Requirement already satisfied: markdown-it-py>=2.2.0 in /usr/local/lib/python3.11/dist-packages (from rich>=10.11.0->chromadb) (3.0.0)\n",
            "Requirement already satisfied: pygments<3.0.0,>=2.13.0 in /usr/local/lib/python3.11/dist-packages (from rich>=10.11.0->chromadb) (2.18.0)\n",
            "Requirement already satisfied: huggingface-hub<1.0,>=0.16.4 in /usr/local/lib/python3.11/dist-packages (from tokenizers>=0.13.2->chromadb) (0.28.1)\n",
            "Requirement already satisfied: click>=8.0.0 in /usr/local/lib/python3.11/dist-packages (from typer>=0.9.0->chromadb) (8.1.8)\n",
            "Requirement already satisfied: shellingham>=1.3.0 in /usr/local/lib/python3.11/dist-packages (from typer>=0.9.0->chromadb) (1.5.4)\n",
            "Requirement already satisfied: httptools>=0.6.3 in /usr/local/lib/python3.11/dist-packages (from uvicorn[standard]>=0.18.3->chromadb) (0.6.4)\n",
            "Requirement already satisfied: python-dotenv>=0.13 in /usr/local/lib/python3.11/dist-packages (from uvicorn[standard]>=0.18.3->chromadb) (1.0.1)\n",
            "Requirement already satisfied: uvloop!=0.15.0,!=0.15.1,>=0.14.0 in /usr/local/lib/python3.11/dist-packages (from uvicorn[standard]>=0.18.3->chromadb) (0.21.0)\n",
            "Requirement already satisfied: watchfiles>=0.13 in /usr/local/lib/python3.11/dist-packages (from uvicorn[standard]>=0.18.3->chromadb) (1.0.4)\n",
            "Requirement already satisfied: websockets>=10.4 in /usr/local/lib/python3.11/dist-packages (from uvicorn[standard]>=0.18.3->chromadb) (14.2)\n",
            "Requirement already satisfied: cachetools<6.0,>=2.0.0 in /usr/local/lib/python3.11/dist-packages (from google-auth>=1.0.1->kubernetes>=28.1.0->chromadb) (5.5.2)\n",
            "Requirement already satisfied: pyasn1-modules>=0.2.1 in /usr/local/lib/python3.11/dist-packages (from google-auth>=1.0.1->kubernetes>=28.1.0->chromadb) (0.4.1)\n",
            "Requirement already satisfied: rsa<5,>=3.1.4 in /usr/local/lib/python3.11/dist-packages (from google-auth>=1.0.1->kubernetes>=28.1.0->chromadb) (4.9)\n",
            "Requirement already satisfied: filelock in /usr/local/lib/python3.11/dist-packages (from huggingface-hub<1.0,>=0.16.4->tokenizers>=0.13.2->chromadb) (3.17.0)\n",
            "Requirement already satisfied: fsspec>=2023.5.0 in /usr/local/lib/python3.11/dist-packages (from huggingface-hub<1.0,>=0.16.4->tokenizers>=0.13.2->chromadb) (2024.10.0)\n",
            "Requirement already satisfied: zipp>=3.20 in /usr/local/lib/python3.11/dist-packages (from importlib-metadata<=8.5.0,>=6.0->opentelemetry-api>=1.2.0->chromadb) (3.21.0)\n",
            "Requirement already satisfied: mdurl~=0.1 in /usr/local/lib/python3.11/dist-packages (from markdown-it-py>=2.2.0->rich>=10.11.0->chromadb) (0.1.2)\n",
            "Requirement already satisfied: charset-normalizer<4,>=2 in /usr/local/lib/python3.11/dist-packages (from requests->kubernetes>=28.1.0->chromadb) (3.4.1)\n",
            "Requirement already satisfied: humanfriendly>=9.1 in /usr/local/lib/python3.11/dist-packages (from coloredlogs->onnxruntime>=1.14.1->chromadb) (10.0)\n",
            "Requirement already satisfied: mpmath<1.4,>=1.1.0 in /usr/local/lib/python3.11/dist-packages (from sympy->onnxruntime>=1.14.1->chromadb) (1.3.0)\n",
            "Requirement already satisfied: pyasn1<0.7.0,>=0.4.6 in /usr/local/lib/python3.11/dist-packages (from pyasn1-modules>=0.2.1->google-auth>=1.0.1->kubernetes>=28.1.0->chromadb) (0.6.1)\n",
            "Requirement already satisfied: langchain-openai in /usr/local/lib/python3.11/dist-packages (0.3.7)\n",
            "Requirement already satisfied: langchain-core<1.0.0,>=0.3.39 in /usr/local/lib/python3.11/dist-packages (from langchain-openai) (0.3.40)\n",
            "Collecting openai<2.0.0,>=1.58.1 (from langchain-openai)\n",
            "  Using cached openai-1.65.2-py3-none-any.whl.metadata (27 kB)\n",
            "Requirement already satisfied: tiktoken<1,>=0.7 in /usr/local/lib/python3.11/dist-packages (from langchain-openai) (0.9.0)\n",
            "Requirement already satisfied: langsmith<0.4,>=0.1.125 in /usr/local/lib/python3.11/dist-packages (from langchain-core<1.0.0,>=0.3.39->langchain-openai) (0.3.11)\n",
            "Requirement already satisfied: tenacity!=8.4.0,<10.0.0,>=8.1.0 in /usr/local/lib/python3.11/dist-packages (from langchain-core<1.0.0,>=0.3.39->langchain-openai) (9.0.0)\n",
            "Requirement already satisfied: jsonpatch<2.0,>=1.33 in /usr/local/lib/python3.11/dist-packages (from langchain-core<1.0.0,>=0.3.39->langchain-openai) (1.33)\n",
            "Requirement already satisfied: PyYAML>=5.3 in /usr/local/lib/python3.11/dist-packages (from langchain-core<1.0.0,>=0.3.39->langchain-openai) (6.0.2)\n",
            "Requirement already satisfied: packaging<25,>=23.2 in /usr/local/lib/python3.11/dist-packages (from langchain-core<1.0.0,>=0.3.39->langchain-openai) (24.2)\n",
            "Requirement already satisfied: typing-extensions>=4.7 in /usr/local/lib/python3.11/dist-packages (from langchain-core<1.0.0,>=0.3.39->langchain-openai) (4.12.2)\n",
            "Requirement already satisfied: pydantic<3.0.0,>=2.5.2 in /usr/local/lib/python3.11/dist-packages (from langchain-core<1.0.0,>=0.3.39->langchain-openai) (2.10.6)\n",
            "Requirement already satisfied: anyio<5,>=3.5.0 in /usr/local/lib/python3.11/dist-packages (from openai<2.0.0,>=1.58.1->langchain-openai) (3.7.1)\n",
            "Requirement already satisfied: distro<2,>=1.7.0 in /usr/local/lib/python3.11/dist-packages (from openai<2.0.0,>=1.58.1->langchain-openai) (1.9.0)\n",
            "Requirement already satisfied: httpx<1,>=0.23.0 in /usr/local/lib/python3.11/dist-packages (from openai<2.0.0,>=1.58.1->langchain-openai) (0.27.2)\n",
            "Requirement already satisfied: jiter<1,>=0.4.0 in /usr/local/lib/python3.11/dist-packages (from openai<2.0.0,>=1.58.1->langchain-openai) (0.8.2)\n",
            "Requirement already satisfied: sniffio in /usr/local/lib/python3.11/dist-packages (from openai<2.0.0,>=1.58.1->langchain-openai) (1.3.1)\n",
            "Requirement already satisfied: tqdm>4 in /usr/local/lib/python3.11/dist-packages (from openai<2.0.0,>=1.58.1->langchain-openai) (4.67.1)\n",
            "Requirement already satisfied: regex>=2022.1.18 in /usr/local/lib/python3.11/dist-packages (from tiktoken<1,>=0.7->langchain-openai) (2024.11.6)\n",
            "Requirement already satisfied: requests>=2.26.0 in /usr/local/lib/python3.11/dist-packages (from tiktoken<1,>=0.7->langchain-openai) (2.32.3)\n",
            "Requirement already satisfied: idna>=2.8 in /usr/local/lib/python3.11/dist-packages (from anyio<5,>=3.5.0->openai<2.0.0,>=1.58.1->langchain-openai) (3.10)\n",
            "Requirement already satisfied: certifi in /usr/local/lib/python3.11/dist-packages (from httpx<1,>=0.23.0->openai<2.0.0,>=1.58.1->langchain-openai) (2025.1.31)\n",
            "Requirement already satisfied: httpcore==1.* in /usr/local/lib/python3.11/dist-packages (from httpx<1,>=0.23.0->openai<2.0.0,>=1.58.1->langchain-openai) (1.0.7)\n",
            "Requirement already satisfied: h11<0.15,>=0.13 in /usr/local/lib/python3.11/dist-packages (from httpcore==1.*->httpx<1,>=0.23.0->openai<2.0.0,>=1.58.1->langchain-openai) (0.14.0)\n",
            "Requirement already satisfied: jsonpointer>=1.9 in /usr/local/lib/python3.11/dist-packages (from jsonpatch<2.0,>=1.33->langchain-core<1.0.0,>=0.3.39->langchain-openai) (3.0.0)\n",
            "Requirement already satisfied: orjson<4.0.0,>=3.9.14 in /usr/local/lib/python3.11/dist-packages (from langsmith<0.4,>=0.1.125->langchain-core<1.0.0,>=0.3.39->langchain-openai) (3.10.15)\n",
            "Requirement already satisfied: requests-toolbelt<2.0.0,>=1.0.0 in /usr/local/lib/python3.11/dist-packages (from langsmith<0.4,>=0.1.125->langchain-core<1.0.0,>=0.3.39->langchain-openai) (1.0.0)\n",
            "Requirement already satisfied: zstandard<0.24.0,>=0.23.0 in /usr/local/lib/python3.11/dist-packages (from langsmith<0.4,>=0.1.125->langchain-core<1.0.0,>=0.3.39->langchain-openai) (0.23.0)\n",
            "Requirement already satisfied: annotated-types>=0.6.0 in /usr/local/lib/python3.11/dist-packages (from pydantic<3.0.0,>=2.5.2->langchain-core<1.0.0,>=0.3.39->langchain-openai) (0.7.0)\n",
            "Requirement already satisfied: pydantic-core==2.27.2 in /usr/local/lib/python3.11/dist-packages (from pydantic<3.0.0,>=2.5.2->langchain-core<1.0.0,>=0.3.39->langchain-openai) (2.27.2)\n",
            "Requirement already satisfied: charset-normalizer<4,>=2 in /usr/local/lib/python3.11/dist-packages (from requests>=2.26.0->tiktoken<1,>=0.7->langchain-openai) (3.4.1)\n",
            "Requirement already satisfied: urllib3<3,>=1.21.1 in /usr/local/lib/python3.11/dist-packages (from requests>=2.26.0->tiktoken<1,>=0.7->langchain-openai) (2.3.0)\n",
            "Using cached openai-1.65.2-py3-none-any.whl (473 kB)\n",
            "Installing collected packages: openai\n",
            "  Attempting uninstall: openai\n",
            "    Found existing installation: openai 1.55.3\n",
            "    Uninstalling openai-1.55.3:\n",
            "      Successfully uninstalled openai-1.55.3\n",
            "Successfully installed openai-1.65.2\n",
            "Requirement already satisfied: langchain-community in /usr/local/lib/python3.11/dist-packages (0.3.18)\n",
            "Requirement already satisfied: langchain-core<1.0.0,>=0.3.37 in /usr/local/lib/python3.11/dist-packages (from langchain-community) (0.3.40)\n",
            "Requirement already satisfied: langchain<1.0.0,>=0.3.19 in /usr/local/lib/python3.11/dist-packages (from langchain-community) (0.3.19)\n",
            "Requirement already satisfied: SQLAlchemy<3,>=1.4 in /usr/local/lib/python3.11/dist-packages (from langchain-community) (2.0.38)\n",
            "Requirement already satisfied: requests<3,>=2 in /usr/local/lib/python3.11/dist-packages (from langchain-community) (2.32.3)\n",
            "Requirement already satisfied: PyYAML>=5.3 in /usr/local/lib/python3.11/dist-packages (from langchain-community) (6.0.2)\n",
            "Requirement already satisfied: aiohttp<4.0.0,>=3.8.3 in /usr/local/lib/python3.11/dist-packages (from langchain-community) (3.11.13)\n",
            "Requirement already satisfied: tenacity!=8.4.0,<10,>=8.1.0 in /usr/local/lib/python3.11/dist-packages (from langchain-community) (9.0.0)\n",
            "Requirement already satisfied: dataclasses-json<0.7,>=0.5.7 in /usr/local/lib/python3.11/dist-packages (from langchain-community) (0.6.7)\n",
            "Requirement already satisfied: pydantic-settings<3.0.0,>=2.4.0 in /usr/local/lib/python3.11/dist-packages (from langchain-community) (2.8.1)\n",
            "Requirement already satisfied: langsmith<0.4,>=0.1.125 in /usr/local/lib/python3.11/dist-packages (from langchain-community) (0.3.11)\n",
            "Requirement already satisfied: httpx-sse<1.0.0,>=0.4.0 in /usr/local/lib/python3.11/dist-packages (from langchain-community) (0.4.0)\n",
            "Requirement already satisfied: numpy<2,>=1.26.4 in /usr/local/lib/python3.11/dist-packages (from langchain-community) (1.26.4)\n",
            "Requirement already satisfied: aiohappyeyeballs>=2.3.0 in /usr/local/lib/python3.11/dist-packages (from aiohttp<4.0.0,>=3.8.3->langchain-community) (2.4.6)\n",
            "Requirement already satisfied: aiosignal>=1.1.2 in /usr/local/lib/python3.11/dist-packages (from aiohttp<4.0.0,>=3.8.3->langchain-community) (1.3.2)\n",
            "Requirement already satisfied: attrs>=17.3.0 in /usr/local/lib/python3.11/dist-packages (from aiohttp<4.0.0,>=3.8.3->langchain-community) (25.1.0)\n",
            "Requirement already satisfied: frozenlist>=1.1.1 in /usr/local/lib/python3.11/dist-packages (from aiohttp<4.0.0,>=3.8.3->langchain-community) (1.5.0)\n",
            "Requirement already satisfied: multidict<7.0,>=4.5 in /usr/local/lib/python3.11/dist-packages (from aiohttp<4.0.0,>=3.8.3->langchain-community) (6.1.0)\n",
            "Requirement already satisfied: propcache>=0.2.0 in /usr/local/lib/python3.11/dist-packages (from aiohttp<4.0.0,>=3.8.3->langchain-community) (0.3.0)\n",
            "Requirement already satisfied: yarl<2.0,>=1.17.0 in /usr/local/lib/python3.11/dist-packages (from aiohttp<4.0.0,>=3.8.3->langchain-community) (1.18.3)\n",
            "Requirement already satisfied: marshmallow<4.0.0,>=3.18.0 in /usr/local/lib/python3.11/dist-packages (from dataclasses-json<0.7,>=0.5.7->langchain-community) (3.26.1)\n",
            "Requirement already satisfied: typing-inspect<1,>=0.4.0 in /usr/local/lib/python3.11/dist-packages (from dataclasses-json<0.7,>=0.5.7->langchain-community) (0.9.0)\n",
            "Requirement already satisfied: langchain-text-splitters<1.0.0,>=0.3.6 in /usr/local/lib/python3.11/dist-packages (from langchain<1.0.0,>=0.3.19->langchain-community) (0.3.6)\n",
            "Requirement already satisfied: pydantic<3.0.0,>=2.7.4 in /usr/local/lib/python3.11/dist-packages (from langchain<1.0.0,>=0.3.19->langchain-community) (2.10.6)\n",
            "Requirement already satisfied: jsonpatch<2.0,>=1.33 in /usr/local/lib/python3.11/dist-packages (from langchain-core<1.0.0,>=0.3.37->langchain-community) (1.33)\n",
            "Requirement already satisfied: packaging<25,>=23.2 in /usr/local/lib/python3.11/dist-packages (from langchain-core<1.0.0,>=0.3.37->langchain-community) (24.2)\n",
            "Requirement already satisfied: typing-extensions>=4.7 in /usr/local/lib/python3.11/dist-packages (from langchain-core<1.0.0,>=0.3.37->langchain-community) (4.12.2)\n",
            "Requirement already satisfied: httpx<1,>=0.23.0 in /usr/local/lib/python3.11/dist-packages (from langsmith<0.4,>=0.1.125->langchain-community) (0.27.2)\n",
            "Requirement already satisfied: orjson<4.0.0,>=3.9.14 in /usr/local/lib/python3.11/dist-packages (from langsmith<0.4,>=0.1.125->langchain-community) (3.10.15)\n",
            "Requirement already satisfied: requests-toolbelt<2.0.0,>=1.0.0 in /usr/local/lib/python3.11/dist-packages (from langsmith<0.4,>=0.1.125->langchain-community) (1.0.0)\n",
            "Requirement already satisfied: zstandard<0.24.0,>=0.23.0 in /usr/local/lib/python3.11/dist-packages (from langsmith<0.4,>=0.1.125->langchain-community) (0.23.0)\n",
            "Requirement already satisfied: python-dotenv>=0.21.0 in /usr/local/lib/python3.11/dist-packages (from pydantic-settings<3.0.0,>=2.4.0->langchain-community) (1.0.1)\n",
            "Requirement already satisfied: charset-normalizer<4,>=2 in /usr/local/lib/python3.11/dist-packages (from requests<3,>=2->langchain-community) (3.4.1)\n",
            "Requirement already satisfied: idna<4,>=2.5 in /usr/local/lib/python3.11/dist-packages (from requests<3,>=2->langchain-community) (3.10)\n",
            "Requirement already satisfied: urllib3<3,>=1.21.1 in /usr/local/lib/python3.11/dist-packages (from requests<3,>=2->langchain-community) (2.3.0)\n",
            "Requirement already satisfied: certifi>=2017.4.17 in /usr/local/lib/python3.11/dist-packages (from requests<3,>=2->langchain-community) (2025.1.31)\n",
            "Requirement already satisfied: greenlet!=0.4.17 in /usr/local/lib/python3.11/dist-packages (from SQLAlchemy<3,>=1.4->langchain-community) (3.1.1)\n",
            "Requirement already satisfied: anyio in /usr/local/lib/python3.11/dist-packages (from httpx<1,>=0.23.0->langsmith<0.4,>=0.1.125->langchain-community) (3.7.1)\n",
            "Requirement already satisfied: httpcore==1.* in /usr/local/lib/python3.11/dist-packages (from httpx<1,>=0.23.0->langsmith<0.4,>=0.1.125->langchain-community) (1.0.7)\n",
            "Requirement already satisfied: sniffio in /usr/local/lib/python3.11/dist-packages (from httpx<1,>=0.23.0->langsmith<0.4,>=0.1.125->langchain-community) (1.3.1)\n",
            "Requirement already satisfied: h11<0.15,>=0.13 in /usr/local/lib/python3.11/dist-packages (from httpcore==1.*->httpx<1,>=0.23.0->langsmith<0.4,>=0.1.125->langchain-community) (0.14.0)\n",
            "Requirement already satisfied: jsonpointer>=1.9 in /usr/local/lib/python3.11/dist-packages (from jsonpatch<2.0,>=1.33->langchain-core<1.0.0,>=0.3.37->langchain-community) (3.0.0)\n",
            "Requirement already satisfied: annotated-types>=0.6.0 in /usr/local/lib/python3.11/dist-packages (from pydantic<3.0.0,>=2.7.4->langchain<1.0.0,>=0.3.19->langchain-community) (0.7.0)\n",
            "Requirement already satisfied: pydantic-core==2.27.2 in /usr/local/lib/python3.11/dist-packages (from pydantic<3.0.0,>=2.7.4->langchain<1.0.0,>=0.3.19->langchain-community) (2.27.2)\n",
            "Requirement already satisfied: mypy-extensions>=0.3.0 in /usr/local/lib/python3.11/dist-packages (from typing-inspect<1,>=0.4.0->dataclasses-json<0.7,>=0.5.7->langchain-community) (1.0.0)\n",
            "Requirement already satisfied: ragas in /usr/local/lib/python3.11/dist-packages (0.2.13)\n",
            "Requirement already satisfied: datasets in /usr/local/lib/python3.11/dist-packages (3.3.2)\n",
            "Requirement already satisfied: numpy in /usr/local/lib/python3.11/dist-packages (from ragas) (1.26.4)\n",
            "Requirement already satisfied: tiktoken in /usr/local/lib/python3.11/dist-packages (from ragas) (0.9.0)\n",
            "Requirement already satisfied: langchain in /usr/local/lib/python3.11/dist-packages (from ragas) (0.3.19)\n",
            "Requirement already satisfied: langchain-core in /usr/local/lib/python3.11/dist-packages (from ragas) (0.3.40)\n",
            "Requirement already satisfied: langchain-community in /usr/local/lib/python3.11/dist-packages (from ragas) (0.3.18)\n",
            "Requirement already satisfied: langchain_openai in /usr/local/lib/python3.11/dist-packages (from ragas) (0.3.7)\n",
            "Requirement already satisfied: nest-asyncio in /usr/local/lib/python3.11/dist-packages (from ragas) (1.6.0)\n",
            "Requirement already satisfied: appdirs in /usr/local/lib/python3.11/dist-packages (from ragas) (1.4.4)\n",
            "Requirement already satisfied: pydantic>=2 in /usr/local/lib/python3.11/dist-packages (from ragas) (2.10.6)\n",
            "Requirement already satisfied: openai>1 in /usr/local/lib/python3.11/dist-packages (from ragas) (1.65.2)\n",
            "Requirement already satisfied: diskcache>=5.6.3 in /usr/local/lib/python3.11/dist-packages (from ragas) (5.6.3)\n",
            "Requirement already satisfied: filelock in /usr/local/lib/python3.11/dist-packages (from datasets) (3.17.0)\n",
            "Requirement already satisfied: pyarrow>=15.0.0 in /usr/local/lib/python3.11/dist-packages (from datasets) (18.1.0)\n",
            "Requirement already satisfied: dill<0.3.9,>=0.3.0 in /usr/local/lib/python3.11/dist-packages (from datasets) (0.3.8)\n",
            "Requirement already satisfied: pandas in /usr/local/lib/python3.11/dist-packages (from datasets) (2.2.2)\n",
            "Requirement already satisfied: requests>=2.32.2 in /usr/local/lib/python3.11/dist-packages (from datasets) (2.32.3)\n",
            "Requirement already satisfied: tqdm>=4.66.3 in /usr/local/lib/python3.11/dist-packages (from datasets) (4.67.1)\n",
            "Requirement already satisfied: xxhash in /usr/local/lib/python3.11/dist-packages (from datasets) (3.5.0)\n",
            "Requirement already satisfied: multiprocess<0.70.17 in /usr/local/lib/python3.11/dist-packages (from datasets) (0.70.16)\n",
            "Requirement already satisfied: fsspec<=2024.12.0,>=2023.1.0 in /usr/local/lib/python3.11/dist-packages (from fsspec[http]<=2024.12.0,>=2023.1.0->datasets) (2024.10.0)\n",
            "Requirement already satisfied: aiohttp in /usr/local/lib/python3.11/dist-packages (from datasets) (3.11.13)\n",
            "Requirement already satisfied: huggingface-hub>=0.24.0 in /usr/local/lib/python3.11/dist-packages (from datasets) (0.28.1)\n",
            "Requirement already satisfied: packaging in /usr/local/lib/python3.11/dist-packages (from datasets) (24.2)\n",
            "Requirement already satisfied: pyyaml>=5.1 in /usr/local/lib/python3.11/dist-packages (from datasets) (6.0.2)\n",
            "Requirement already satisfied: aiohappyeyeballs>=2.3.0 in /usr/local/lib/python3.11/dist-packages (from aiohttp->datasets) (2.4.6)\n",
            "Requirement already satisfied: aiosignal>=1.1.2 in /usr/local/lib/python3.11/dist-packages (from aiohttp->datasets) (1.3.2)\n",
            "Requirement already satisfied: attrs>=17.3.0 in /usr/local/lib/python3.11/dist-packages (from aiohttp->datasets) (25.1.0)\n",
            "Requirement already satisfied: frozenlist>=1.1.1 in /usr/local/lib/python3.11/dist-packages (from aiohttp->datasets) (1.5.0)\n",
            "Requirement already satisfied: multidict<7.0,>=4.5 in /usr/local/lib/python3.11/dist-packages (from aiohttp->datasets) (6.1.0)\n",
            "Requirement already satisfied: propcache>=0.2.0 in /usr/local/lib/python3.11/dist-packages (from aiohttp->datasets) (0.3.0)\n",
            "Requirement already satisfied: yarl<2.0,>=1.17.0 in /usr/local/lib/python3.11/dist-packages (from aiohttp->datasets) (1.18.3)\n",
            "Requirement already satisfied: typing-extensions>=3.7.4.3 in /usr/local/lib/python3.11/dist-packages (from huggingface-hub>=0.24.0->datasets) (4.12.2)\n",
            "Requirement already satisfied: anyio<5,>=3.5.0 in /usr/local/lib/python3.11/dist-packages (from openai>1->ragas) (3.7.1)\n",
            "Requirement already satisfied: distro<2,>=1.7.0 in /usr/local/lib/python3.11/dist-packages (from openai>1->ragas) (1.9.0)\n",
            "Requirement already satisfied: httpx<1,>=0.23.0 in /usr/local/lib/python3.11/dist-packages (from openai>1->ragas) (0.27.2)\n",
            "Requirement already satisfied: jiter<1,>=0.4.0 in /usr/local/lib/python3.11/dist-packages (from openai>1->ragas) (0.8.2)\n",
            "Requirement already satisfied: sniffio in /usr/local/lib/python3.11/dist-packages (from openai>1->ragas) (1.3.1)\n",
            "Requirement already satisfied: annotated-types>=0.6.0 in /usr/local/lib/python3.11/dist-packages (from pydantic>=2->ragas) (0.7.0)\n",
            "Requirement already satisfied: pydantic-core==2.27.2 in /usr/local/lib/python3.11/dist-packages (from pydantic>=2->ragas) (2.27.2)\n",
            "Requirement already satisfied: charset-normalizer<4,>=2 in /usr/local/lib/python3.11/dist-packages (from requests>=2.32.2->datasets) (3.4.1)\n",
            "Requirement already satisfied: idna<4,>=2.5 in /usr/local/lib/python3.11/dist-packages (from requests>=2.32.2->datasets) (3.10)\n",
            "Requirement already satisfied: urllib3<3,>=1.21.1 in /usr/local/lib/python3.11/dist-packages (from requests>=2.32.2->datasets) (2.3.0)\n",
            "Requirement already satisfied: certifi>=2017.4.17 in /usr/local/lib/python3.11/dist-packages (from requests>=2.32.2->datasets) (2025.1.31)\n",
            "Requirement already satisfied: langchain-text-splitters<1.0.0,>=0.3.6 in /usr/local/lib/python3.11/dist-packages (from langchain->ragas) (0.3.6)\n",
            "Requirement already satisfied: langsmith<0.4,>=0.1.17 in /usr/local/lib/python3.11/dist-packages (from langchain->ragas) (0.3.11)\n",
            "Requirement already satisfied: SQLAlchemy<3,>=1.4 in /usr/local/lib/python3.11/dist-packages (from langchain->ragas) (2.0.38)\n",
            "Requirement already satisfied: tenacity!=8.4.0,<10,>=8.1.0 in /usr/local/lib/python3.11/dist-packages (from langchain->ragas) (9.0.0)\n",
            "Requirement already satisfied: jsonpatch<2.0,>=1.33 in /usr/local/lib/python3.11/dist-packages (from langchain-core->ragas) (1.33)\n",
            "Requirement already satisfied: dataclasses-json<0.7,>=0.5.7 in /usr/local/lib/python3.11/dist-packages (from langchain-community->ragas) (0.6.7)\n",
            "Requirement already satisfied: pydantic-settings<3.0.0,>=2.4.0 in /usr/local/lib/python3.11/dist-packages (from langchain-community->ragas) (2.8.1)\n",
            "Requirement already satisfied: httpx-sse<1.0.0,>=0.4.0 in /usr/local/lib/python3.11/dist-packages (from langchain-community->ragas) (0.4.0)\n",
            "Requirement already satisfied: regex>=2022.1.18 in /usr/local/lib/python3.11/dist-packages (from tiktoken->ragas) (2024.11.6)\n",
            "Requirement already satisfied: python-dateutil>=2.8.2 in /usr/local/lib/python3.11/dist-packages (from pandas->datasets) (2.8.2)\n",
            "Requirement already satisfied: pytz>=2020.1 in /usr/local/lib/python3.11/dist-packages (from pandas->datasets) (2025.1)\n",
            "Requirement already satisfied: tzdata>=2022.7 in /usr/local/lib/python3.11/dist-packages (from pandas->datasets) (2025.1)\n",
            "Requirement already satisfied: marshmallow<4.0.0,>=3.18.0 in /usr/local/lib/python3.11/dist-packages (from dataclasses-json<0.7,>=0.5.7->langchain-community->ragas) (3.26.1)\n",
            "Requirement already satisfied: typing-inspect<1,>=0.4.0 in /usr/local/lib/python3.11/dist-packages (from dataclasses-json<0.7,>=0.5.7->langchain-community->ragas) (0.9.0)\n",
            "Requirement already satisfied: httpcore==1.* in /usr/local/lib/python3.11/dist-packages (from httpx<1,>=0.23.0->openai>1->ragas) (1.0.7)\n",
            "Requirement already satisfied: h11<0.15,>=0.13 in /usr/local/lib/python3.11/dist-packages (from httpcore==1.*->httpx<1,>=0.23.0->openai>1->ragas) (0.14.0)\n",
            "Requirement already satisfied: jsonpointer>=1.9 in /usr/local/lib/python3.11/dist-packages (from jsonpatch<2.0,>=1.33->langchain-core->ragas) (3.0.0)\n",
            "Requirement already satisfied: orjson<4.0.0,>=3.9.14 in /usr/local/lib/python3.11/dist-packages (from langsmith<0.4,>=0.1.17->langchain->ragas) (3.10.15)\n",
            "Requirement already satisfied: requests-toolbelt<2.0.0,>=1.0.0 in /usr/local/lib/python3.11/dist-packages (from langsmith<0.4,>=0.1.17->langchain->ragas) (1.0.0)\n",
            "Requirement already satisfied: zstandard<0.24.0,>=0.23.0 in /usr/local/lib/python3.11/dist-packages (from langsmith<0.4,>=0.1.17->langchain->ragas) (0.23.0)\n",
            "Requirement already satisfied: python-dotenv>=0.21.0 in /usr/local/lib/python3.11/dist-packages (from pydantic-settings<3.0.0,>=2.4.0->langchain-community->ragas) (1.0.1)\n",
            "Requirement already satisfied: six>=1.5 in /usr/local/lib/python3.11/dist-packages (from python-dateutil>=2.8.2->pandas->datasets) (1.17.0)\n",
            "Requirement already satisfied: greenlet!=0.4.17 in /usr/local/lib/python3.11/dist-packages (from SQLAlchemy<3,>=1.4->langchain->ragas) (3.1.1)\n",
            "Requirement already satisfied: mypy-extensions>=0.3.0 in /usr/local/lib/python3.11/dist-packages (from typing-inspect<1,>=0.4.0->dataclasses-json<0.7,>=0.5.7->langchain-community->ragas) (1.0.0)\n"
          ]
        }
      ],
      "source": [
        "!pip install langchain\n",
        "# !pip install openai\n",
        "!pip install openai==1.55.3\n",
        "!pip install httpx==0.27.2\n",
        "!pip install PyPDF2\n",
        "!pip install pypdf\n",
        "!pip install faiss-cpu\n",
        "!pip install tiktoken\n",
        "!pip install sentence-transformers\n",
        "!pip install chromadb\n",
        "!pip install -U langchain-openai\n",
        "!pip install -U langchain-community\n",
        "!pip install ragas datasets"
      ]
    },
    {
      "cell_type": "code",
      "execution_count": null,
      "metadata": {
        "colab": {
          "base_uri": "https://localhost:8080/",
          "height": 36
        },
        "id": "xfflFbudcZWF",
        "outputId": "e38ed642-8698-49aa-88c7-9f3813695916"
      },
      "outputs": [
        {
          "data": {
            "application/vnd.google.colaboratory.intrinsic+json": {
              "type": "string"
            },
            "text/plain": [
              "'1.65.2'"
            ]
          },
          "execution_count": 16,
          "metadata": {},
          "output_type": "execute_result"
        }
      ],
      "source": [
        "import openai\n",
        "openai.__version__"
      ]
    },
    {
      "cell_type": "code",
      "execution_count": null,
      "metadata": {
        "colab": {
          "base_uri": "https://localhost:8080/"
        },
        "id": "REBRjUvw2OSp",
        "outputId": "dfbeb98c-4d78-42a7-a15e-e591890425c7"
      },
      "outputs": [
        {
          "name": "stdout",
          "output_type": "stream",
          "text": [
            "Drive already mounted at /content/drive; to attempt to forcibly remount, call drive.mount(\"/content/drive\", force_remount=True).\n"
          ]
        }
      ],
      "source": [
        "import os\n",
        "from google.colab import userdata\n",
        "from google.colab import drive\n",
        "\n",
        "os.environ[\"OPENAI_API_KEY\"] = userdata.get(\"OPENAI_API_KEY\")\n",
        "drive.mount('/content/drive')"
      ]
    },
    {
      "cell_type": "markdown",
      "metadata": {
        "id": "78b5gG94S4_b"
      },
      "source": [
        "## Basic RAG pipeline"
      ]
    },
    {
      "cell_type": "code",
      "execution_count": null,
      "metadata": {
        "id": "SuNuDB8A6USA"
      },
      "outputs": [],
      "source": [
        "from langchain.document_loaders import PyPDFLoader\n",
        "from langchain.text_splitter import RecursiveCharacterTextSplitter\n",
        "from langchain.vectorstores import Chroma\n",
        "from langchain.embeddings import SentenceTransformerEmbeddings\n",
        "\n",
        "b_docs = []\n",
        "loader = PyPDFLoader('/content/drive/MyDrive/Colab_Notebooks/RAG/bert.pdf')\n",
        "b_docs.extend(loader.load())\n",
        "\n",
        "text_splitter = RecursiveCharacterTextSplitter(chunk_size=1000, chunk_overlap = 100)\n",
        "\n",
        "docs = text_splitter.split_documents(b_docs)\n",
        "embeddings = SentenceTransformerEmbeddings(model_name=\"all-MiniLM-L6-v2\")\n",
        "vectorstore = Chroma.from_documents(docs, embeddings)\n",
        "\n",
        "chroma_retriever = vectorstore.as_retriever(\n",
        "        search_type=\"mmr\", search_kwargs={\"k\": 4, \"fetch_k\": 10} # MMR (Maximal Marginal Relevance)\n",
        "    )"
      ]
    },
    {
      "cell_type": "markdown",
      "metadata": {
        "id": "2QyshGxqTKjs"
      },
      "source": [
        "## Prompt Template"
      ]
    },
    {
      "cell_type": "code",
      "execution_count": null,
      "metadata": {
        "id": "tmkMdw1r3rkT"
      },
      "outputs": [],
      "source": [
        "from langchain.prompts import ChatPromptTemplate\n",
        "\n",
        "template = \"\"\"You are an assistant for question-answering tasks.\n",
        "Use the following pieces of retrieved context to answer the question.\n",
        "If you don't know the answer, just say that you don't know.\n",
        "Use three sentences maximum and keep the answer concise.\n",
        "Question: {question}\n",
        "Context: {context}\n",
        "Answer:\n",
        "\"\"\"\n",
        "\n",
        "prompt = ChatPromptTemplate.from_template(template)"
      ]
    },
    {
      "cell_type": "markdown",
      "metadata": {
        "id": "0ZpOlbY8Tqgz"
      },
      "source": [
        "## RAG Chain"
      ]
    },
    {
      "cell_type": "code",
      "execution_count": null,
      "metadata": {
        "colab": {
          "base_uri": "https://localhost:8080/",
          "height": 72
        },
        "id": "s8gvVUGgTiLW",
        "outputId": "a8c83634-942c-4dee-c344-07e963ccdaf3"
      },
      "outputs": [
        {
          "data": {
            "application/vnd.google.colaboratory.intrinsic+json": {
              "type": "string"
            },
            "text/plain": [
              "'BERT is pre-trained on two main tasks: Masked Language Model (MLM) and Next Sentence Prediction (NSP). These tasks help BERT understand the context and relationships between words in a sentence. The pre-training process involves using unsupervised tasks to train the model before fine-tuning it on specific downstream tasks.'"
            ]
          },
          "execution_count": 20,
          "metadata": {},
          "output_type": "execute_result"
        }
      ],
      "source": [
        "from langchain.chat_models import ChatOpenAI\n",
        "from langchain.schema.runnable import RunnablePassthrough\n",
        "from langchain.schema.output_parser import StrOutputParser\n",
        "\n",
        "llm = ChatOpenAI(model_name=\"gpt-3.5-turbo\", temperature=0) # avoiding any creative or speculative answers\n",
        "\n",
        "rag_chain = (\n",
        "    {\"context\": chroma_retriever, \"question\": RunnablePassthrough()}\n",
        "    | prompt\n",
        "    | llm\n",
        "    | StrOutputParser()\n",
        ")\n",
        "\n",
        "query = \"What are the two main tasks on which BERT is pre-trained on?\"\n",
        "rag_chain.invoke(query)"
      ]
    },
    {
      "cell_type": "markdown",
      "metadata": {
        "id": "Q7ey1WUmaKS2"
      },
      "source": [
        "## Generalization"
      ]
    },
    {
      "cell_type": "code",
      "execution_count": null,
      "metadata": {
        "id": "7iCaVU1fU_Vv"
      },
      "outputs": [],
      "source": [
        "# To generalise the entire process for use by various retrievers\n",
        "def rag_chain(retriever):\n",
        "  llm = ChatOpenAI(model_name=\"gpt-3.5-turbo\", temperature=0)\n",
        "\n",
        "  rag_chain = (\n",
        "      {\"context\": retriever, \"question\": RunnablePassthrough()}\n",
        "      | prompt\n",
        "      | llm\n",
        "      | StrOutputParser()\n",
        "  )\n",
        "  return rag_chain"
      ]
    },
    {
      "cell_type": "markdown",
      "metadata": {
        "id": "w79YCdXBbmlC"
      },
      "source": [
        "## Ground Truth"
      ]
    },
    {
      "cell_type": "markdown",
      "metadata": {
        "id": "BK608YC6t7_2"
      },
      "source": [
        "- [ARAGOG: Advanced RAG Output Grading](https://arxiv.org/html/2404.01037v1)\n",
        "- This paper employed GPT-4 to generate a synthetic ground truth dataset derived from 13 NLP papers, resulting in 107 pairs of questions and answers."
      ]
    },
    {
      "cell_type": "code",
      "execution_count": null,
      "metadata": {
        "id": "zuy5lZBsaYlX"
      },
      "outputs": [],
      "source": [
        "# Ground Truth Dataset of BERT paper\n",
        "questions= [\n",
        "         \"What are the two main tasks BERT is pre-trained on?\",\n",
        "         \"What model sizes are reported for BERT, and what are their specifications?\",\n",
        "         \"How does BERT's architecture facilitate the use of a unified model across diverse NLP tasks?\",\n",
        "         \"How does BERT's performance on the GLUE benchmark compare to previous state-of-the-art models?\",\n",
        "         \"What significant improvements does BERT bring to the SQuAD v1.1,v2.0 and v13.5 tasks compared to prior models?\",\n",
        "         \"Explain how BERT uses the 'masked LM' (MLM) for its pre-training.\",\n",
        "         \"Discuss the impact of model size on BERT's performance across different tasks.\",\n",
        "         \"What datasets were used for BERT's pre-training and why?\"\n",
        "     ]\n",
        "ground_truths = [\n",
        "         \"Masked LM (MLM) and Next Sentence Prediction (NSP).\",\n",
        "         \"BERTBASE (L=12, H=768, A=12, Total Parameters=110M) and BERTLARGE (L=24, H=1024, A=16, Total Parameters=340M).\",\n",
        "         \"BERT uses a multi-layer bidirectional Transformer encoder architecture, allowing for minimal task-specific architecture modifications in fine-tuning.\",\n",
        "         \"BERT achieved new state-of-the-art on the GLUE benchmark (80.5%), surpassing the previous best models.\",\n",
        "         \"BERT set new records on SQuAD v1.1 and v2.0, significantly outperforming the top leaderboard systems at the time. Version 13.5 doesn't exist. \",\n",
        "         \"In MLM, a percentage of input tokens are masked randomly, and the model predicts these masked tokens based on their context.\",\n",
        "         \"Larger BERT models consistently show better performance across tasks, indicating the importance of model size in achieving high accuracy.\",\n",
        "         \"BooksCorpus (800M words) and English Wikipedia (2500M words), chosen for their document-level organization and volume of data.\"\n",
        "     ]"
      ]
    },
    {
      "cell_type": "markdown",
      "metadata": {
        "id": "wtTTmrYjbw75"
      },
      "source": [
        "## RAGAS : Evaluation Framework\n",
        "- [RAGAS: Automated Evaluation of Retrieval Augmented Generation.](https://arxiv.org/abs/2309.15217)"
      ]
    },
    {
      "cell_type": "markdown",
      "metadata": {
        "id": "Euh5qaKQidnb"
      },
      "source": [
        "- Retrieval metrics: context precision, context recall, context relevancy\n",
        "- Generation metrics: faithfulness, answer relevancy\n",
        "- End to end pipeline metrics: answer similarity, answer correctness"
      ]
    },
    {
      "cell_type": "code",
      "execution_count": null,
      "metadata": {
        "colab": {
          "base_uri": "https://localhost:8080/",
          "height": 36
        },
        "id": "mrH7fUbkfITw",
        "outputId": "251748b8-4a70-4b64-a2ca-a8acc2b8b237"
      },
      "outputs": [
        {
          "data": {
            "application/vnd.google.colaboratory.intrinsic+json": {
              "type": "string"
            },
            "text/plain": [
              "'0.2.13'"
            ]
          },
          "execution_count": 23,
          "metadata": {},
          "output_type": "execute_result"
        }
      ],
      "source": [
        "import ragas\n",
        "ragas.__version__"
      ]
    },
    {
      "cell_type": "code",
      "execution_count": null,
      "metadata": {
        "id": "MmnvDmTGcIbi"
      },
      "outputs": [],
      "source": [
        "from ragas.metrics import (\n",
        "    answer_relevancy,\n",
        "    faithfulness,\n",
        "    context_recall,\n",
        "    context_precision,\n",
        "    # context_relevancy,\n",
        "    answer_correctness,\n",
        "    answer_similarity\n",
        ")\n",
        "\n",
        "from ragas.metrics._aspect_critic import harmfulness\n",
        "from ragas import evaluate\n",
        "from datasets import Dataset"
      ]
    },
    {
      "cell_type": "markdown",
      "metadata": {
        "id": "SZ7vL8Zzjtkd"
      },
      "source": [
        "- The `create_ragas_dataset` function takes in a `RAG chain` and `a retriever`. It processes each question in the `questions` list by using the RAG chain to generate answers, which are then appended to an initially empty list called `answers`.\n",
        "- Simultaneously, the function uses the retriever to fetch `the top-k relevant documents` for each query, extracting their content and appending it to the `contexts` list.\n",
        "- Finally, it compiles the data into a dictionary with keys: `question`, `answer`, `contexts`, and `ground_truth`. This dictionary is then converted into a dataset using `Dataset.from_dict(data)` and returned from the function."
      ]
    },
    {
      "cell_type": "code",
      "execution_count": null,
      "metadata": {
        "id": "pFqKXQb9cL9s"
      },
      "outputs": [],
      "source": [
        "def create_ragas_dataset(rag_chain, retriever):\n",
        "  answers = []\n",
        "  contexts = []\n",
        "\n",
        "  for query in questions:\n",
        "    answers.append(rag_chain.invoke(query))\n",
        "    contexts.append([docs.page_content for docs in retriever.get_relevant_documents(query)])\n",
        "\n",
        "  data = {\n",
        "    \"question\": questions,\n",
        "    \"answer\": answers,\n",
        "    \"contexts\": contexts,\n",
        "    \"ground_truth\": ground_truths\n",
        "  }\n",
        "\n",
        "  dataset = Dataset.from_dict(data)\n",
        "  return dataset"
      ]
    },
    {
      "cell_type": "markdown",
      "metadata": {
        "id": "zNPf40nwlGAI"
      },
      "source": [
        "- This function provides a structured way to create a dataset that can be used to evaluate the performance of a RAG pipeline using the RAGAS framework, ensuring consistency and ease of comparison between different retrievers.\n",
        "- The `evaluate_ragas_dataset` function takes in a RAGAS dataset, which is the dataset created for each retriever and its QA chain.\n",
        "- It evaluates the dataset using a list of predefined metrics. The evaluation results are then returned in a dictionary format."
      ]
    },
    {
      "cell_type": "code",
      "execution_count": null,
      "metadata": {
        "id": "6umwEfPHjmZZ"
      },
      "outputs": [],
      "source": [
        "def evaluate_ragas_dataset(ragas_dataset):\n",
        "  result = evaluate(\n",
        "    ragas_dataset,\n",
        "    metrics=[\n",
        "        context_precision,\n",
        "        faithfulness,\n",
        "        answer_relevancy,\n",
        "        context_recall,\n",
        "        # context_relevancy,\n",
        "        answer_correctness,\n",
        "        answer_similarity\n",
        "    ],\n",
        "  )\n",
        "  return result"
      ]
    },
    {
      "cell_type": "markdown",
      "metadata": {
        "id": "Si9JFwXuT67l"
      },
      "source": [
        "## Retrievers"
      ]
    },
    {
      "cell_type": "markdown",
      "metadata": {
        "id": "2beR3o6PUBCY"
      },
      "source": [
        "### 1. Vector store backed retriever (Chroma retriever):"
      ]
    },
    {
      "cell_type": "code",
      "execution_count": null,
      "metadata": {
        "colab": {
          "base_uri": "https://localhost:8080/",
          "height": 72
        },
        "id": "t7jL0vnjliPW",
        "outputId": "c566dfaa-29a3-4fff-c2d4-c8a41c1b62f1"
      },
      "outputs": [
        {
          "data": {
            "application/vnd.google.colaboratory.intrinsic+json": {
              "type": "string"
            },
            "text/plain": [
              "'BERT is pre-trained on two main tasks: Masked LM and Next Sentence Prediction (NSP). Masked LM involves predicting masked words in a sentence, while NSP involves determining if two sentences are consecutive or not. These tasks help BERT learn contextual relationships and improve performance on downstream tasks.'"
            ]
          },
          "execution_count": 27,
          "metadata": {},
          "output_type": "execute_result"
        }
      ],
      "source": [
        "chroma_retriever = vectorstore.as_retriever(\n",
        "        search_type=\"mmr\", search_kwargs={\"k\": 4, \"fetch_k\": 10}\n",
        "    )\n",
        "\n",
        "chroma_qa_chain = rag_chain(chroma_retriever)\n",
        "\n",
        "query = \"What are the two main tasks on which BERT is pre-trained on?\"\n",
        "chroma_qa_chain.invoke(query)"
      ]
    },
    {
      "cell_type": "code",
      "execution_count": null,
      "metadata": {
        "colab": {
          "base_uri": "https://localhost:8080/",
          "height": 141,
          "referenced_widgets": [
            "b191e2bce1344abaa4845d75034b786e",
            "e91fc698c29b4aee9a38c3f9305a8c50",
            "26dd0a708ff54353b5bc2802048f8711",
            "afb89858757a42979baa556c76323918",
            "7272f03eb4f8458da153408f2155d63f",
            "5f92b0e930294c66975a48da677ace85",
            "e1a8b67d17224f4480df7e58d16120e3",
            "94842aaff9174a0787bbcc65bc120fd6",
            "9af28632749c4f36b493bde93381b6cd",
            "a7e83d957138423fac81ff466a34819c",
            "1d5ab11e867c4fd4821fe98c64db8a01"
          ]
        },
        "id": "LiFypJYdUX6T",
        "outputId": "9330256f-ae85-4994-b15d-fead03b4a895"
      },
      "outputs": [
        {
          "name": "stderr",
          "output_type": "stream",
          "text": [
            "<ipython-input-25-9a50d403342b>:7: LangChainDeprecationWarning: The method `BaseRetriever.get_relevant_documents` was deprecated in langchain-core 0.1.46 and will be removed in 1.0. Use :meth:`~invoke` instead.\n",
            "  contexts.append([docs.page_content for docs in retriever.get_relevant_documents(query)])\n"
          ]
        },
        {
          "data": {
            "application/vnd.jupyter.widget-view+json": {
              "model_id": "b191e2bce1344abaa4845d75034b786e",
              "version_major": 2,
              "version_minor": 0
            },
            "text/plain": [
              "Evaluating:   0%|          | 0/48 [00:00<?, ?it/s]"
            ]
          },
          "metadata": {},
          "output_type": "display_data"
        },
        {
          "data": {
            "text/plain": [
              "{'context_precision': 0.7500, 'faithfulness': 0.8625, 'answer_relevancy': 0.9445, 'context_recall': 0.9375, 'answer_correctness': 0.7986, 'semantic_similarity': 0.8966}"
            ]
          },
          "execution_count": 28,
          "metadata": {},
          "output_type": "execute_result"
        }
      ],
      "source": [
        "chroma_dataset = create_ragas_dataset(chroma_qa_chain, chroma_retriever)\n",
        "chroma_result = evaluate_ragas_dataset(chroma_dataset)\n",
        "chroma_result"
      ]
    },
    {
      "cell_type": "markdown",
      "metadata": {
        "id": "l_ohGc55btXA"
      },
      "source": [
        "### 2. Parent Document retriever:\n",
        "- One of the easier ways of improving a retriever is to embed our documents into small chunks, and then retrieve a significant amount of additional context that “surrounds” the found context.\n",
        "- [LangChain:Parent Document Retriever](https://python.langchain.com/docs/how_to/parent_document_retriever/)"
      ]
    },
    {
      "cell_type": "markdown",
      "metadata": {
        "id": "quFekb0gc_X9"
      },
      "source": [
        "- major steps:\n",
        "  1. Data preprocessing: Breaking very long documents into manageable pieces\n",
        "  2. Create embeddings: Convert pieces into numerical vectors for efficient search\n",
        "  3. User query: User submits a question\n",
        "  4. Chunk retrieval: Model retrieves the piece’s most similar to the embedding for the query\n",
        "  5. Find parent document: Retrieve original documents or bigger pieces of them from which these pieces were taken\n",
        "  6. Parent Document Retrieval: Retrieve full parent documents to provide more context for the response\n",
        "  - [ref](https://dzone.com/articles/parent-document-retrieval-useful-technique-in-rag)\n",
        "  ![image.png](data:image/png;base64,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)"
      ]
    },
    {
      "cell_type": "code",
      "execution_count": null,
      "metadata": {
        "colab": {
          "base_uri": "https://localhost:8080/"
        },
        "id": "Nr5KPzuJb2Yo",
        "outputId": "3b78d191-a869-4257-83f1-e921c8f6e898"
      },
      "outputs": [
        {
          "name": "stderr",
          "output_type": "stream",
          "text": [
            "<ipython-input-29-4501669d9103>:7: LangChainDeprecationWarning: The class `Chroma` was deprecated in LangChain 0.2.9 and will be removed in 1.0. An updated version of the class exists in the :class:`~langchain-chroma package and should be used instead. To use it run `pip install -U :class:`~langchain-chroma` and import as `from :class:`~langchain_chroma import Chroma``.\n",
            "  vectorstore = Chroma(collection_name=\"split_parents\", embedding_function=embeddings)\n"
          ]
        }
      ],
      "source": [
        "from langchain.retrievers import ParentDocumentRetriever\n",
        "from langchain.storage import InMemoryStore\n",
        "\n",
        "parent_splitter = RecursiveCharacterTextSplitter(chunk_size=1500)\n",
        "child_splitter = RecursiveCharacterTextSplitter(chunk_size=200)\n",
        "\n",
        "vectorstore = Chroma(collection_name=\"split_parents\", embedding_function=embeddings)\n",
        "\n",
        "store = InMemoryStore()\n",
        "\n",
        "parent_document_retriever = ParentDocumentRetriever(\n",
        "    vectorstore=vectorstore,\n",
        "    docstore=store,\n",
        "    child_splitter=child_splitter,\n",
        "    parent_splitter=parent_splitter,\n",
        ")\n",
        "parent_document_retriever.add_documents(b_docs)"
      ]
    },
    {
      "cell_type": "code",
      "execution_count": null,
      "metadata": {
        "colab": {
          "base_uri": "https://localhost:8080/",
          "height": 72
        },
        "id": "dwr2gw-xcdm9",
        "outputId": "6c0ee527-5ed0-48d8-cf53-d39579749284"
      },
      "outputs": [
        {
          "data": {
            "application/vnd.google.colaboratory.intrinsic+json": {
              "type": "string"
            },
            "text/plain": [
              "\" BERT is pre-trained on the BooksCorpus and Wikipedia, which consist of a total of 3,300M words.\\nThe two main tasks on which BERT is pre-trained are the masked language model (MLM) and the next sentence prediction (NSP) task.\\nThese tasks enable bidirectionality and contribute significantly to the model's performance.\\n\""
            ]
          },
          "execution_count": 30,
          "metadata": {},
          "output_type": "execute_result"
        }
      ],
      "source": [
        "parent_qa_chain = rag_chain(parent_document_retriever)\n",
        "\n",
        "query = \"What are the two main tasks on which BERT is pre-trained on?\"\n",
        "parent_qa_chain.invoke(query)\n",
        "\n",
        "\"\"\" BERT is pre-trained on the BooksCorpus and Wikipedia, which consist of a total of 3,300M words.\n",
        "The two main tasks on which BERT is pre-trained are the masked language model (MLM) and the next sentence prediction (NSP) task.\n",
        "These tasks enable bidirectionality and contribute significantly to the model's performance.\n",
        "\"\"\""
      ]
    },
    {
      "cell_type": "code",
      "execution_count": null,
      "metadata": {
        "colab": {
          "base_uri": "https://localhost:8080/",
          "height": 85,
          "referenced_widgets": [
            "a2717d760af84c44a509d91557d95d53",
            "aca8fbfeb32a4370838af30ccadd572b",
            "ca7889c4d227478c87b4c6321f5aead7",
            "7c6b23c96e3f4324bc593b838783ba60",
            "342a1ce9d2f142ef9353cc523a5a599f",
            "39d4a7f069c343f29304c34bea11df49",
            "f7d2e9d2057244fab98f8d8441eb3b61",
            "85bce4145ea145b3a2ccec45f8b3ab2f",
            "5054d75e839c41b4909b11b54914e3c0",
            "5e362cc8851a497ca7c67c2385cc74d6",
            "e24acd125ad84eedaf4186cf809ba713"
          ]
        },
        "id": "bxv3HRGHcdw9",
        "outputId": "d09a122e-a021-4566-d682-ee2215f9ff76"
      },
      "outputs": [
        {
          "data": {
            "application/vnd.jupyter.widget-view+json": {
              "model_id": "a2717d760af84c44a509d91557d95d53",
              "version_major": 2,
              "version_minor": 0
            },
            "text/plain": [
              "Evaluating:   0%|          | 0/48 [00:00<?, ?it/s]"
            ]
          },
          "metadata": {},
          "output_type": "display_data"
        },
        {
          "data": {
            "text/plain": [
              "{'context_precision': 0.8507, 'faithfulness': 0.9844, 'answer_relevancy': 0.9309, 'context_recall': 0.8125, 'answer_correctness': 0.5415, 'semantic_similarity': 0.8804}"
            ]
          },
          "execution_count": 31,
          "metadata": {},
          "output_type": "execute_result"
        }
      ],
      "source": [
        "pda_dataset = create_ragas_dataset(parent_qa_chain, parent_document_retriever)\n",
        "pda_result = evaluate_ragas_dataset(pda_dataset)\n",
        "pda_result"
      ]
    },
    {
      "cell_type": "markdown",
      "metadata": {
        "id": "Eyt-tmcD2-Mz"
      },
      "source": [
        "### 3. MultiQuery retriever:\n",
        "- problem: retrieval may produce different results with `subtle changes` in query wording or if the embeddings do not capture the semantics of the data well.\n",
        "- The retriever automates the process of prompt tuning by using an LLM to generate `multiple queries` from different perspectives for a given user input query.\n",
        "- [LangChain:MultiQueryRetriever](https://python.langchain.com/docs/how_to/MultiQueryRetriever/)"
      ]
    },
    {
      "cell_type": "code",
      "execution_count": null,
      "metadata": {
        "id": "IQRYpLLSaP38"
      },
      "outputs": [],
      "source": [
        "# Default prompt\n",
        "# ref: https://python.langchain.com/api_reference/_modules/langchain/retrievers/multi_query.html#MultiQueryRetriever\n",
        "from langchain_core.prompts.prompt import PromptTemplate\n",
        "DEFAULT_QUERY_PROMPT = PromptTemplate(\n",
        "    input_variables=[\"question\"],\n",
        "    template=\"\"\"You are an AI language model assistant. Your task is\n",
        "    to generate 3 different versions of the given user\n",
        "    question to retrieve relevant documents from a vector  database.\n",
        "    By generating multiple perspectives on the user question,\n",
        "    your goal is to help the user overcome some of the limitations\n",
        "    of distance-based similarity search. Provide these alternative\n",
        "    questions separated by newlines. Original question: {question}\"\"\",\n",
        ")"
      ]
    },
    {
      "cell_type": "code",
      "execution_count": null,
      "metadata": {
        "colab": {
          "base_uri": "https://localhost:8080/",
          "height": 85,
          "referenced_widgets": [
            "7ee4dc9696d54ca5a1f855d324e0af3f",
            "cee38e2b044f4f51a81fa5d578c18771",
            "f4cb0a074ef142f6a365139066838a76",
            "afa43e0b96c04e95b686d371077537e6",
            "3922fc7cbb574f0cab7a1912e6811675",
            "0295489a4d2c43b4b261a8bd93de052a",
            "30a0345eab9d4645aaf7acb2628e434c",
            "f8217feb6dc34ff5b4a36bb66161e044",
            "a87ea4250b1346fbbe5c124a4710f635",
            "cfe17c6c818c474eb64d7ad998afa17f",
            "7c1c04dda8b94fdcbd82b3cd36310255"
          ]
        },
        "id": "W-JLQX6hUlbK",
        "outputId": "2297fe58-aabd-43aa-e2cc-71717de4adaa"
      },
      "outputs": [
        {
          "data": {
            "application/vnd.jupyter.widget-view+json": {
              "model_id": "7ee4dc9696d54ca5a1f855d324e0af3f",
              "version_major": 2,
              "version_minor": 0
            },
            "text/plain": [
              "Evaluating:   0%|          | 0/48 [00:00<?, ?it/s]"
            ]
          },
          "metadata": {},
          "output_type": "display_data"
        },
        {
          "data": {
            "text/plain": [
              "{'context_precision': 0.5656, 'faithfulness': 0.7313, 'answer_relevancy': 0.9331, 'context_recall': 0.8125, 'answer_correctness': 0.6382, 'semantic_similarity': 0.8782}"
            ]
          },
          "execution_count": 32,
          "metadata": {},
          "output_type": "execute_result"
        }
      ],
      "source": [
        "from langchain.retrievers.multi_query import MultiQueryRetriever\n",
        "\n",
        "multi_query_retriever = MultiQueryRetriever.from_llm(\n",
        "    retriever=vectorstore.as_retriever(), llm=llm\n",
        "    # prompt: BasePromptTemplate = DEFAULT_QUERY_PROMPT,\n",
        ")\n",
        "\n",
        "# MultiQuery retriever evaluation\n",
        "multi_query_qa_chain = rag_chain(multi_query_retriever)\n",
        "multi_query_dataset = create_ragas_dataset(multi_query_qa_chain, multi_query_retriever)\n",
        "multi_query_result = evaluate_ragas_dataset(multi_query_dataset)\n",
        "multi_query_result"
      ]
    },
    {
      "cell_type": "code",
      "execution_count": null,
      "metadata": {
        "colab": {
          "base_uri": "https://localhost:8080/"
        },
        "id": "fiUW6aXk7YMw",
        "outputId": "4192eb8b-d689-40d6-ef7a-065636b016bb"
      },
      "outputs": [
        {
          "name": "stderr",
          "output_type": "stream",
          "text": [
            "INFO:langchain.retrievers.multi_query:Generated queries: ['1. What are the primary objectives that BERT is trained for?', '2. What are the key tasks that BERT undergoes pre-training for?', \"3. What are the main areas of focus in BERT's pre-training process?\"]\n"
          ]
        },
        {
          "data": {
            "text/plain": [
              "7"
            ]
          },
          "execution_count": 33,
          "metadata": {},
          "output_type": "execute_result"
        }
      ],
      "source": [
        "# Set logging for the queries\n",
        "import logging\n",
        "\n",
        "logging.basicConfig()\n",
        "logging.getLogger(\"langchain.retrievers.multi_query\").setLevel(logging.INFO)\n",
        "\n",
        "query = \"What are the two main tasks on which BERT is pre-trained on?\"\n",
        "unique_docs = multi_query_retriever.invoke(query)\n",
        "len(unique_docs)"
      ]
    },
    {
      "cell_type": "code",
      "execution_count": null,
      "metadata": {
        "id": "5Jy31g3p9RzE"
      },
      "outputs": [],
      "source": []
    }
  ],
  "metadata": {
    "colab": {
      "provenance": [],
      "toc_visible": true
    },
    "kernelspec": {
      "display_name": "Python 3",
      "name": "python3"
    },
    "language_info": {
      "name": "python"
    },
    "widgets": {
      "application/vnd.jupyter.widget-state+json": {
        "0295489a4d2c43b4b261a8bd93de052a": {
          "model_module": "@jupyter-widgets/base",
          "model_module_version": "1.2.0",
          "model_name": "LayoutModel",
          "state": {
            "_model_module": "@jupyter-widgets/base",
            "_model_module_version": "1.2.0",
            "_model_name": "LayoutModel",
            "_view_count": null,
            "_view_module": "@jupyter-widgets/base",
            "_view_module_version": "1.2.0",
            "_view_name": "LayoutView",
            "align_content": null,
            "align_items": null,
            "align_self": null,
            "border": null,
            "bottom": null,
            "display": null,
            "flex": null,
            "flex_flow": null,
            "grid_area": null,
            "grid_auto_columns": null,
            "grid_auto_flow": null,
            "grid_auto_rows": null,
            "grid_column": null,
            "grid_gap": null,
            "grid_row": null,
            "grid_template_areas": null,
            "grid_template_columns": null,
            "grid_template_rows": null,
            "height": null,
            "justify_content": null,
            "justify_items": null,
            "left": null,
            "margin": null,
            "max_height": null,
            "max_width": null,
            "min_height": null,
            "min_width": null,
            "object_fit": null,
            "object_position": null,
            "order": null,
            "overflow": null,
            "overflow_x": null,
            "overflow_y": null,
            "padding": null,
            "right": null,
            "top": null,
            "visibility": null,
            "width": null
          }
        },
        "1d5ab11e867c4fd4821fe98c64db8a01": {
          "model_module": "@jupyter-widgets/controls",
          "model_module_version": "1.5.0",
          "model_name": "DescriptionStyleModel",
          "state": {
            "_model_module": "@jupyter-widgets/controls",
            "_model_module_version": "1.5.0",
            "_model_name": "DescriptionStyleModel",
            "_view_count": null,
            "_view_module": "@jupyter-widgets/base",
            "_view_module_version": "1.2.0",
            "_view_name": "StyleView",
            "description_width": ""
          }
        },
        "26dd0a708ff54353b5bc2802048f8711": {
          "model_module": "@jupyter-widgets/controls",
          "model_module_version": "1.5.0",
          "model_name": "FloatProgressModel",
          "state": {
            "_dom_classes": [],
            "_model_module": "@jupyter-widgets/controls",
            "_model_module_version": "1.5.0",
            "_model_name": "FloatProgressModel",
            "_view_count": null,
            "_view_module": "@jupyter-widgets/controls",
            "_view_module_version": "1.5.0",
            "_view_name": "ProgressView",
            "bar_style": "success",
            "description": "",
            "description_tooltip": null,
            "layout": "IPY_MODEL_94842aaff9174a0787bbcc65bc120fd6",
            "max": 48,
            "min": 0,
            "orientation": "horizontal",
            "style": "IPY_MODEL_9af28632749c4f36b493bde93381b6cd",
            "value": 48
          }
        },
        "30a0345eab9d4645aaf7acb2628e434c": {
          "model_module": "@jupyter-widgets/controls",
          "model_module_version": "1.5.0",
          "model_name": "DescriptionStyleModel",
          "state": {
            "_model_module": "@jupyter-widgets/controls",
            "_model_module_version": "1.5.0",
            "_model_name": "DescriptionStyleModel",
            "_view_count": null,
            "_view_module": "@jupyter-widgets/base",
            "_view_module_version": "1.2.0",
            "_view_name": "StyleView",
            "description_width": ""
          }
        },
        "342a1ce9d2f142ef9353cc523a5a599f": {
          "model_module": "@jupyter-widgets/base",
          "model_module_version": "1.2.0",
          "model_name": "LayoutModel",
          "state": {
            "_model_module": "@jupyter-widgets/base",
            "_model_module_version": "1.2.0",
            "_model_name": "LayoutModel",
            "_view_count": null,
            "_view_module": "@jupyter-widgets/base",
            "_view_module_version": "1.2.0",
            "_view_name": "LayoutView",
            "align_content": null,
            "align_items": null,
            "align_self": null,
            "border": null,
            "bottom": null,
            "display": null,
            "flex": null,
            "flex_flow": null,
            "grid_area": null,
            "grid_auto_columns": null,
            "grid_auto_flow": null,
            "grid_auto_rows": null,
            "grid_column": null,
            "grid_gap": null,
            "grid_row": null,
            "grid_template_areas": null,
            "grid_template_columns": null,
            "grid_template_rows": null,
            "height": null,
            "justify_content": null,
            "justify_items": null,
            "left": null,
            "margin": null,
            "max_height": null,
            "max_width": null,
            "min_height": null,
            "min_width": null,
            "object_fit": null,
            "object_position": null,
            "order": null,
            "overflow": null,
            "overflow_x": null,
            "overflow_y": null,
            "padding": null,
            "right": null,
            "top": null,
            "visibility": null,
            "width": null
          }
        },
        "3922fc7cbb574f0cab7a1912e6811675": {
          "model_module": "@jupyter-widgets/base",
          "model_module_version": "1.2.0",
          "model_name": "LayoutModel",
          "state": {
            "_model_module": "@jupyter-widgets/base",
            "_model_module_version": "1.2.0",
            "_model_name": "LayoutModel",
            "_view_count": null,
            "_view_module": "@jupyter-widgets/base",
            "_view_module_version": "1.2.0",
            "_view_name": "LayoutView",
            "align_content": null,
            "align_items": null,
            "align_self": null,
            "border": null,
            "bottom": null,
            "display": null,
            "flex": null,
            "flex_flow": null,
            "grid_area": null,
            "grid_auto_columns": null,
            "grid_auto_flow": null,
            "grid_auto_rows": null,
            "grid_column": null,
            "grid_gap": null,
            "grid_row": null,
            "grid_template_areas": null,
            "grid_template_columns": null,
            "grid_template_rows": null,
            "height": null,
            "justify_content": null,
            "justify_items": null,
            "left": null,
            "margin": null,
            "max_height": null,
            "max_width": null,
            "min_height": null,
            "min_width": null,
            "object_fit": null,
            "object_position": null,
            "order": null,
            "overflow": null,
            "overflow_x": null,
            "overflow_y": null,
            "padding": null,
            "right": null,
            "top": null,
            "visibility": null,
            "width": null
          }
        },
        "39d4a7f069c343f29304c34bea11df49": {
          "model_module": "@jupyter-widgets/base",
          "model_module_version": "1.2.0",
          "model_name": "LayoutModel",
          "state": {
            "_model_module": "@jupyter-widgets/base",
            "_model_module_version": "1.2.0",
            "_model_name": "LayoutModel",
            "_view_count": null,
            "_view_module": "@jupyter-widgets/base",
            "_view_module_version": "1.2.0",
            "_view_name": "LayoutView",
            "align_content": null,
            "align_items": null,
            "align_self": null,
            "border": null,
            "bottom": null,
            "display": null,
            "flex": null,
            "flex_flow": null,
            "grid_area": null,
            "grid_auto_columns": null,
            "grid_auto_flow": null,
            "grid_auto_rows": null,
            "grid_column": null,
            "grid_gap": null,
            "grid_row": null,
            "grid_template_areas": null,
            "grid_template_columns": null,
            "grid_template_rows": null,
            "height": null,
            "justify_content": null,
            "justify_items": null,
            "left": null,
            "margin": null,
            "max_height": null,
            "max_width": null,
            "min_height": null,
            "min_width": null,
            "object_fit": null,
            "object_position": null,
            "order": null,
            "overflow": null,
            "overflow_x": null,
            "overflow_y": null,
            "padding": null,
            "right": null,
            "top": null,
            "visibility": null,
            "width": null
          }
        },
        "5054d75e839c41b4909b11b54914e3c0": {
          "model_module": "@jupyter-widgets/controls",
          "model_module_version": "1.5.0",
          "model_name": "ProgressStyleModel",
          "state": {
            "_model_module": "@jupyter-widgets/controls",
            "_model_module_version": "1.5.0",
            "_model_name": "ProgressStyleModel",
            "_view_count": null,
            "_view_module": "@jupyter-widgets/base",
            "_view_module_version": "1.2.0",
            "_view_name": "StyleView",
            "bar_color": null,
            "description_width": ""
          }
        },
        "5e362cc8851a497ca7c67c2385cc74d6": {
          "model_module": "@jupyter-widgets/base",
          "model_module_version": "1.2.0",
          "model_name": "LayoutModel",
          "state": {
            "_model_module": "@jupyter-widgets/base",
            "_model_module_version": "1.2.0",
            "_model_name": "LayoutModel",
            "_view_count": null,
            "_view_module": "@jupyter-widgets/base",
            "_view_module_version": "1.2.0",
            "_view_name": "LayoutView",
            "align_content": null,
            "align_items": null,
            "align_self": null,
            "border": null,
            "bottom": null,
            "display": null,
            "flex": null,
            "flex_flow": null,
            "grid_area": null,
            "grid_auto_columns": null,
            "grid_auto_flow": null,
            "grid_auto_rows": null,
            "grid_column": null,
            "grid_gap": null,
            "grid_row": null,
            "grid_template_areas": null,
            "grid_template_columns": null,
            "grid_template_rows": null,
            "height": null,
            "justify_content": null,
            "justify_items": null,
            "left": null,
            "margin": null,
            "max_height": null,
            "max_width": null,
            "min_height": null,
            "min_width": null,
            "object_fit": null,
            "object_position": null,
            "order": null,
            "overflow": null,
            "overflow_x": null,
            "overflow_y": null,
            "padding": null,
            "right": null,
            "top": null,
            "visibility": null,
            "width": null
          }
        },
        "5f92b0e930294c66975a48da677ace85": {
          "model_module": "@jupyter-widgets/base",
          "model_module_version": "1.2.0",
          "model_name": "LayoutModel",
          "state": {
            "_model_module": "@jupyter-widgets/base",
            "_model_module_version": "1.2.0",
            "_model_name": "LayoutModel",
            "_view_count": null,
            "_view_module": "@jupyter-widgets/base",
            "_view_module_version": "1.2.0",
            "_view_name": "LayoutView",
            "align_content": null,
            "align_items": null,
            "align_self": null,
            "border": null,
            "bottom": null,
            "display": null,
            "flex": null,
            "flex_flow": null,
            "grid_area": null,
            "grid_auto_columns": null,
            "grid_auto_flow": null,
            "grid_auto_rows": null,
            "grid_column": null,
            "grid_gap": null,
            "grid_row": null,
            "grid_template_areas": null,
            "grid_template_columns": null,
            "grid_template_rows": null,
            "height": null,
            "justify_content": null,
            "justify_items": null,
            "left": null,
            "margin": null,
            "max_height": null,
            "max_width": null,
            "min_height": null,
            "min_width": null,
            "object_fit": null,
            "object_position": null,
            "order": null,
            "overflow": null,
            "overflow_x": null,
            "overflow_y": null,
            "padding": null,
            "right": null,
            "top": null,
            "visibility": null,
            "width": null
          }
        },
        "7272f03eb4f8458da153408f2155d63f": {
          "model_module": "@jupyter-widgets/base",
          "model_module_version": "1.2.0",
          "model_name": "LayoutModel",
          "state": {
            "_model_module": "@jupyter-widgets/base",
            "_model_module_version": "1.2.0",
            "_model_name": "LayoutModel",
            "_view_count": null,
            "_view_module": "@jupyter-widgets/base",
            "_view_module_version": "1.2.0",
            "_view_name": "LayoutView",
            "align_content": null,
            "align_items": null,
            "align_self": null,
            "border": null,
            "bottom": null,
            "display": null,
            "flex": null,
            "flex_flow": null,
            "grid_area": null,
            "grid_auto_columns": null,
            "grid_auto_flow": null,
            "grid_auto_rows": null,
            "grid_column": null,
            "grid_gap": null,
            "grid_row": null,
            "grid_template_areas": null,
            "grid_template_columns": null,
            "grid_template_rows": null,
            "height": null,
            "justify_content": null,
            "justify_items": null,
            "left": null,
            "margin": null,
            "max_height": null,
            "max_width": null,
            "min_height": null,
            "min_width": null,
            "object_fit": null,
            "object_position": null,
            "order": null,
            "overflow": null,
            "overflow_x": null,
            "overflow_y": null,
            "padding": null,
            "right": null,
            "top": null,
            "visibility": null,
            "width": null
          }
        },
        "7c1c04dda8b94fdcbd82b3cd36310255": {
          "model_module": "@jupyter-widgets/controls",
          "model_module_version": "1.5.0",
          "model_name": "DescriptionStyleModel",
          "state": {
            "_model_module": "@jupyter-widgets/controls",
            "_model_module_version": "1.5.0",
            "_model_name": "DescriptionStyleModel",
            "_view_count": null,
            "_view_module": "@jupyter-widgets/base",
            "_view_module_version": "1.2.0",
            "_view_name": "StyleView",
            "description_width": ""
          }
        },
        "7c6b23c96e3f4324bc593b838783ba60": {
          "model_module": "@jupyter-widgets/controls",
          "model_module_version": "1.5.0",
          "model_name": "HTMLModel",
          "state": {
            "_dom_classes": [],
            "_model_module": "@jupyter-widgets/controls",
            "_model_module_version": "1.5.0",
            "_model_name": "HTMLModel",
            "_view_count": null,
            "_view_module": "@jupyter-widgets/controls",
            "_view_module_version": "1.5.0",
            "_view_name": "HTMLView",
            "description": "",
            "description_tooltip": null,
            "layout": "IPY_MODEL_5e362cc8851a497ca7c67c2385cc74d6",
            "placeholder": "​",
            "style": "IPY_MODEL_e24acd125ad84eedaf4186cf809ba713",
            "value": " 48/48 [00:30&lt;00:00,  4.23s/it]"
          }
        },
        "7ee4dc9696d54ca5a1f855d324e0af3f": {
          "model_module": "@jupyter-widgets/controls",
          "model_module_version": "1.5.0",
          "model_name": "HBoxModel",
          "state": {
            "_dom_classes": [],
            "_model_module": "@jupyter-widgets/controls",
            "_model_module_version": "1.5.0",
            "_model_name": "HBoxModel",
            "_view_count": null,
            "_view_module": "@jupyter-widgets/controls",
            "_view_module_version": "1.5.0",
            "_view_name": "HBoxView",
            "box_style": "",
            "children": [
              "IPY_MODEL_cee38e2b044f4f51a81fa5d578c18771",
              "IPY_MODEL_f4cb0a074ef142f6a365139066838a76",
              "IPY_MODEL_afa43e0b96c04e95b686d371077537e6"
            ],
            "layout": "IPY_MODEL_3922fc7cbb574f0cab7a1912e6811675"
          }
        },
        "85bce4145ea145b3a2ccec45f8b3ab2f": {
          "model_module": "@jupyter-widgets/base",
          "model_module_version": "1.2.0",
          "model_name": "LayoutModel",
          "state": {
            "_model_module": "@jupyter-widgets/base",
            "_model_module_version": "1.2.0",
            "_model_name": "LayoutModel",
            "_view_count": null,
            "_view_module": "@jupyter-widgets/base",
            "_view_module_version": "1.2.0",
            "_view_name": "LayoutView",
            "align_content": null,
            "align_items": null,
            "align_self": null,
            "border": null,
            "bottom": null,
            "display": null,
            "flex": null,
            "flex_flow": null,
            "grid_area": null,
            "grid_auto_columns": null,
            "grid_auto_flow": null,
            "grid_auto_rows": null,
            "grid_column": null,
            "grid_gap": null,
            "grid_row": null,
            "grid_template_areas": null,
            "grid_template_columns": null,
            "grid_template_rows": null,
            "height": null,
            "justify_content": null,
            "justify_items": null,
            "left": null,
            "margin": null,
            "max_height": null,
            "max_width": null,
            "min_height": null,
            "min_width": null,
            "object_fit": null,
            "object_position": null,
            "order": null,
            "overflow": null,
            "overflow_x": null,
            "overflow_y": null,
            "padding": null,
            "right": null,
            "top": null,
            "visibility": null,
            "width": null
          }
        },
        "94842aaff9174a0787bbcc65bc120fd6": {
          "model_module": "@jupyter-widgets/base",
          "model_module_version": "1.2.0",
          "model_name": "LayoutModel",
          "state": {
            "_model_module": "@jupyter-widgets/base",
            "_model_module_version": "1.2.0",
            "_model_name": "LayoutModel",
            "_view_count": null,
            "_view_module": "@jupyter-widgets/base",
            "_view_module_version": "1.2.0",
            "_view_name": "LayoutView",
            "align_content": null,
            "align_items": null,
            "align_self": null,
            "border": null,
            "bottom": null,
            "display": null,
            "flex": null,
            "flex_flow": null,
            "grid_area": null,
            "grid_auto_columns": null,
            "grid_auto_flow": null,
            "grid_auto_rows": null,
            "grid_column": null,
            "grid_gap": null,
            "grid_row": null,
            "grid_template_areas": null,
            "grid_template_columns": null,
            "grid_template_rows": null,
            "height": null,
            "justify_content": null,
            "justify_items": null,
            "left": null,
            "margin": null,
            "max_height": null,
            "max_width": null,
            "min_height": null,
            "min_width": null,
            "object_fit": null,
            "object_position": null,
            "order": null,
            "overflow": null,
            "overflow_x": null,
            "overflow_y": null,
            "padding": null,
            "right": null,
            "top": null,
            "visibility": null,
            "width": null
          }
        },
        "9af28632749c4f36b493bde93381b6cd": {
          "model_module": "@jupyter-widgets/controls",
          "model_module_version": "1.5.0",
          "model_name": "ProgressStyleModel",
          "state": {
            "_model_module": "@jupyter-widgets/controls",
            "_model_module_version": "1.5.0",
            "_model_name": "ProgressStyleModel",
            "_view_count": null,
            "_view_module": "@jupyter-widgets/base",
            "_view_module_version": "1.2.0",
            "_view_name": "StyleView",
            "bar_color": null,
            "description_width": ""
          }
        },
        "a2717d760af84c44a509d91557d95d53": {
          "model_module": "@jupyter-widgets/controls",
          "model_module_version": "1.5.0",
          "model_name": "HBoxModel",
          "state": {
            "_dom_classes": [],
            "_model_module": "@jupyter-widgets/controls",
            "_model_module_version": "1.5.0",
            "_model_name": "HBoxModel",
            "_view_count": null,
            "_view_module": "@jupyter-widgets/controls",
            "_view_module_version": "1.5.0",
            "_view_name": "HBoxView",
            "box_style": "",
            "children": [
              "IPY_MODEL_aca8fbfeb32a4370838af30ccadd572b",
              "IPY_MODEL_ca7889c4d227478c87b4c6321f5aead7",
              "IPY_MODEL_7c6b23c96e3f4324bc593b838783ba60"
            ],
            "layout": "IPY_MODEL_342a1ce9d2f142ef9353cc523a5a599f"
          }
        },
        "a7e83d957138423fac81ff466a34819c": {
          "model_module": "@jupyter-widgets/base",
          "model_module_version": "1.2.0",
          "model_name": "LayoutModel",
          "state": {
            "_model_module": "@jupyter-widgets/base",
            "_model_module_version": "1.2.0",
            "_model_name": "LayoutModel",
            "_view_count": null,
            "_view_module": "@jupyter-widgets/base",
            "_view_module_version": "1.2.0",
            "_view_name": "LayoutView",
            "align_content": null,
            "align_items": null,
            "align_self": null,
            "border": null,
            "bottom": null,
            "display": null,
            "flex": null,
            "flex_flow": null,
            "grid_area": null,
            "grid_auto_columns": null,
            "grid_auto_flow": null,
            "grid_auto_rows": null,
            "grid_column": null,
            "grid_gap": null,
            "grid_row": null,
            "grid_template_areas": null,
            "grid_template_columns": null,
            "grid_template_rows": null,
            "height": null,
            "justify_content": null,
            "justify_items": null,
            "left": null,
            "margin": null,
            "max_height": null,
            "max_width": null,
            "min_height": null,
            "min_width": null,
            "object_fit": null,
            "object_position": null,
            "order": null,
            "overflow": null,
            "overflow_x": null,
            "overflow_y": null,
            "padding": null,
            "right": null,
            "top": null,
            "visibility": null,
            "width": null
          }
        },
        "a87ea4250b1346fbbe5c124a4710f635": {
          "model_module": "@jupyter-widgets/controls",
          "model_module_version": "1.5.0",
          "model_name": "ProgressStyleModel",
          "state": {
            "_model_module": "@jupyter-widgets/controls",
            "_model_module_version": "1.5.0",
            "_model_name": "ProgressStyleModel",
            "_view_count": null,
            "_view_module": "@jupyter-widgets/base",
            "_view_module_version": "1.2.0",
            "_view_name": "StyleView",
            "bar_color": null,
            "description_width": ""
          }
        },
        "aca8fbfeb32a4370838af30ccadd572b": {
          "model_module": "@jupyter-widgets/controls",
          "model_module_version": "1.5.0",
          "model_name": "HTMLModel",
          "state": {
            "_dom_classes": [],
            "_model_module": "@jupyter-widgets/controls",
            "_model_module_version": "1.5.0",
            "_model_name": "HTMLModel",
            "_view_count": null,
            "_view_module": "@jupyter-widgets/controls",
            "_view_module_version": "1.5.0",
            "_view_name": "HTMLView",
            "description": "",
            "description_tooltip": null,
            "layout": "IPY_MODEL_39d4a7f069c343f29304c34bea11df49",
            "placeholder": "​",
            "style": "IPY_MODEL_f7d2e9d2057244fab98f8d8441eb3b61",
            "value": "Evaluating: 100%"
          }
        },
        "afa43e0b96c04e95b686d371077537e6": {
          "model_module": "@jupyter-widgets/controls",
          "model_module_version": "1.5.0",
          "model_name": "HTMLModel",
          "state": {
            "_dom_classes": [],
            "_model_module": "@jupyter-widgets/controls",
            "_model_module_version": "1.5.0",
            "_model_name": "HTMLModel",
            "_view_count": null,
            "_view_module": "@jupyter-widgets/controls",
            "_view_module_version": "1.5.0",
            "_view_name": "HTMLView",
            "description": "",
            "description_tooltip": null,
            "layout": "IPY_MODEL_cfe17c6c818c474eb64d7ad998afa17f",
            "placeholder": "​",
            "style": "IPY_MODEL_7c1c04dda8b94fdcbd82b3cd36310255",
            "value": " 48/48 [00:22&lt;00:00,  1.58s/it]"
          }
        },
        "afb89858757a42979baa556c76323918": {
          "model_module": "@jupyter-widgets/controls",
          "model_module_version": "1.5.0",
          "model_name": "HTMLModel",
          "state": {
            "_dom_classes": [],
            "_model_module": "@jupyter-widgets/controls",
            "_model_module_version": "1.5.0",
            "_model_name": "HTMLModel",
            "_view_count": null,
            "_view_module": "@jupyter-widgets/controls",
            "_view_module_version": "1.5.0",
            "_view_name": "HTMLView",
            "description": "",
            "description_tooltip": null,
            "layout": "IPY_MODEL_a7e83d957138423fac81ff466a34819c",
            "placeholder": "​",
            "style": "IPY_MODEL_1d5ab11e867c4fd4821fe98c64db8a01",
            "value": " 48/48 [00:23&lt;00:00,  2.30s/it]"
          }
        },
        "b191e2bce1344abaa4845d75034b786e": {
          "model_module": "@jupyter-widgets/controls",
          "model_module_version": "1.5.0",
          "model_name": "HBoxModel",
          "state": {
            "_dom_classes": [],
            "_model_module": "@jupyter-widgets/controls",
            "_model_module_version": "1.5.0",
            "_model_name": "HBoxModel",
            "_view_count": null,
            "_view_module": "@jupyter-widgets/controls",
            "_view_module_version": "1.5.0",
            "_view_name": "HBoxView",
            "box_style": "",
            "children": [
              "IPY_MODEL_e91fc698c29b4aee9a38c3f9305a8c50",
              "IPY_MODEL_26dd0a708ff54353b5bc2802048f8711",
              "IPY_MODEL_afb89858757a42979baa556c76323918"
            ],
            "layout": "IPY_MODEL_7272f03eb4f8458da153408f2155d63f"
          }
        },
        "ca7889c4d227478c87b4c6321f5aead7": {
          "model_module": "@jupyter-widgets/controls",
          "model_module_version": "1.5.0",
          "model_name": "FloatProgressModel",
          "state": {
            "_dom_classes": [],
            "_model_module": "@jupyter-widgets/controls",
            "_model_module_version": "1.5.0",
            "_model_name": "FloatProgressModel",
            "_view_count": null,
            "_view_module": "@jupyter-widgets/controls",
            "_view_module_version": "1.5.0",
            "_view_name": "ProgressView",
            "bar_style": "success",
            "description": "",
            "description_tooltip": null,
            "layout": "IPY_MODEL_85bce4145ea145b3a2ccec45f8b3ab2f",
            "max": 48,
            "min": 0,
            "orientation": "horizontal",
            "style": "IPY_MODEL_5054d75e839c41b4909b11b54914e3c0",
            "value": 48
          }
        },
        "cee38e2b044f4f51a81fa5d578c18771": {
          "model_module": "@jupyter-widgets/controls",
          "model_module_version": "1.5.0",
          "model_name": "HTMLModel",
          "state": {
            "_dom_classes": [],
            "_model_module": "@jupyter-widgets/controls",
            "_model_module_version": "1.5.0",
            "_model_name": "HTMLModel",
            "_view_count": null,
            "_view_module": "@jupyter-widgets/controls",
            "_view_module_version": "1.5.0",
            "_view_name": "HTMLView",
            "description": "",
            "description_tooltip": null,
            "layout": "IPY_MODEL_0295489a4d2c43b4b261a8bd93de052a",
            "placeholder": "​",
            "style": "IPY_MODEL_30a0345eab9d4645aaf7acb2628e434c",
            "value": "Evaluating: 100%"
          }
        },
        "cfe17c6c818c474eb64d7ad998afa17f": {
          "model_module": "@jupyter-widgets/base",
          "model_module_version": "1.2.0",
          "model_name": "LayoutModel",
          "state": {
            "_model_module": "@jupyter-widgets/base",
            "_model_module_version": "1.2.0",
            "_model_name": "LayoutModel",
            "_view_count": null,
            "_view_module": "@jupyter-widgets/base",
            "_view_module_version": "1.2.0",
            "_view_name": "LayoutView",
            "align_content": null,
            "align_items": null,
            "align_self": null,
            "border": null,
            "bottom": null,
            "display": null,
            "flex": null,
            "flex_flow": null,
            "grid_area": null,
            "grid_auto_columns": null,
            "grid_auto_flow": null,
            "grid_auto_rows": null,
            "grid_column": null,
            "grid_gap": null,
            "grid_row": null,
            "grid_template_areas": null,
            "grid_template_columns": null,
            "grid_template_rows": null,
            "height": null,
            "justify_content": null,
            "justify_items": null,
            "left": null,
            "margin": null,
            "max_height": null,
            "max_width": null,
            "min_height": null,
            "min_width": null,
            "object_fit": null,
            "object_position": null,
            "order": null,
            "overflow": null,
            "overflow_x": null,
            "overflow_y": null,
            "padding": null,
            "right": null,
            "top": null,
            "visibility": null,
            "width": null
          }
        },
        "e1a8b67d17224f4480df7e58d16120e3": {
          "model_module": "@jupyter-widgets/controls",
          "model_module_version": "1.5.0",
          "model_name": "DescriptionStyleModel",
          "state": {
            "_model_module": "@jupyter-widgets/controls",
            "_model_module_version": "1.5.0",
            "_model_name": "DescriptionStyleModel",
            "_view_count": null,
            "_view_module": "@jupyter-widgets/base",
            "_view_module_version": "1.2.0",
            "_view_name": "StyleView",
            "description_width": ""
          }
        },
        "e24acd125ad84eedaf4186cf809ba713": {
          "model_module": "@jupyter-widgets/controls",
          "model_module_version": "1.5.0",
          "model_name": "DescriptionStyleModel",
          "state": {
            "_model_module": "@jupyter-widgets/controls",
            "_model_module_version": "1.5.0",
            "_model_name": "DescriptionStyleModel",
            "_view_count": null,
            "_view_module": "@jupyter-widgets/base",
            "_view_module_version": "1.2.0",
            "_view_name": "StyleView",
            "description_width": ""
          }
        },
        "e91fc698c29b4aee9a38c3f9305a8c50": {
          "model_module": "@jupyter-widgets/controls",
          "model_module_version": "1.5.0",
          "model_name": "HTMLModel",
          "state": {
            "_dom_classes": [],
            "_model_module": "@jupyter-widgets/controls",
            "_model_module_version": "1.5.0",
            "_model_name": "HTMLModel",
            "_view_count": null,
            "_view_module": "@jupyter-widgets/controls",
            "_view_module_version": "1.5.0",
            "_view_name": "HTMLView",
            "description": "",
            "description_tooltip": null,
            "layout": "IPY_MODEL_5f92b0e930294c66975a48da677ace85",
            "placeholder": "​",
            "style": "IPY_MODEL_e1a8b67d17224f4480df7e58d16120e3",
            "value": "Evaluating: 100%"
          }
        },
        "f4cb0a074ef142f6a365139066838a76": {
          "model_module": "@jupyter-widgets/controls",
          "model_module_version": "1.5.0",
          "model_name": "FloatProgressModel",
          "state": {
            "_dom_classes": [],
            "_model_module": "@jupyter-widgets/controls",
            "_model_module_version": "1.5.0",
            "_model_name": "FloatProgressModel",
            "_view_count": null,
            "_view_module": "@jupyter-widgets/controls",
            "_view_module_version": "1.5.0",
            "_view_name": "ProgressView",
            "bar_style": "success",
            "description": "",
            "description_tooltip": null,
            "layout": "IPY_MODEL_f8217feb6dc34ff5b4a36bb66161e044",
            "max": 48,
            "min": 0,
            "orientation": "horizontal",
            "style": "IPY_MODEL_a87ea4250b1346fbbe5c124a4710f635",
            "value": 48
          }
        },
        "f7d2e9d2057244fab98f8d8441eb3b61": {
          "model_module": "@jupyter-widgets/controls",
          "model_module_version": "1.5.0",
          "model_name": "DescriptionStyleModel",
          "state": {
            "_model_module": "@jupyter-widgets/controls",
            "_model_module_version": "1.5.0",
            "_model_name": "DescriptionStyleModel",
            "_view_count": null,
            "_view_module": "@jupyter-widgets/base",
            "_view_module_version": "1.2.0",
            "_view_name": "StyleView",
            "description_width": ""
          }
        },
        "f8217feb6dc34ff5b4a36bb66161e044": {
          "model_module": "@jupyter-widgets/base",
          "model_module_version": "1.2.0",
          "model_name": "LayoutModel",
          "state": {
            "_model_module": "@jupyter-widgets/base",
            "_model_module_version": "1.2.0",
            "_model_name": "LayoutModel",
            "_view_count": null,
            "_view_module": "@jupyter-widgets/base",
            "_view_module_version": "1.2.0",
            "_view_name": "LayoutView",
            "align_content": null,
            "align_items": null,
            "align_self": null,
            "border": null,
            "bottom": null,
            "display": null,
            "flex": null,
            "flex_flow": null,
            "grid_area": null,
            "grid_auto_columns": null,
            "grid_auto_flow": null,
            "grid_auto_rows": null,
            "grid_column": null,
            "grid_gap": null,
            "grid_row": null,
            "grid_template_areas": null,
            "grid_template_columns": null,
            "grid_template_rows": null,
            "height": null,
            "justify_content": null,
            "justify_items": null,
            "left": null,
            "margin": null,
            "max_height": null,
            "max_width": null,
            "min_height": null,
            "min_width": null,
            "object_fit": null,
            "object_position": null,
            "order": null,
            "overflow": null,
            "overflow_x": null,
            "overflow_y": null,
            "padding": null,
            "right": null,
            "top": null,
            "visibility": null,
            "width": null
          }
        }
      }
    }
  },
  "nbformat": 4,
  "nbformat_minor": 0
}
